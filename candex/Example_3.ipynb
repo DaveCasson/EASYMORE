{
 "cells": [
  {
   "cell_type": "code",
   "execution_count": 3,
   "metadata": {},
   "outputs": [],
   "source": [
    "import geopandas as gpd\n",
    "capitals = gpd.read_file(gpd.datasets.get_path(\"naturalearth_cities\"))"
   ]
  },
  {
   "cell_type": "code",
   "execution_count": 5,
   "metadata": {},
   "outputs": [
    {
     "name": "stdout",
     "output_type": "stream",
     "text": [
      "             name                     geometry\n",
      "0    Vatican City    POINT (12.45339 41.90328)\n",
      "1      San Marino    POINT (12.44177 43.93610)\n",
      "2           Vaduz     POINT (9.51667 47.13372)\n",
      "3      Luxembourg     POINT (6.13000 49.61166)\n",
      "4         Palikir    POINT (158.14997 6.91664)\n",
      "..            ...                          ...\n",
      "197         Cairo    POINT (31.24802 30.05191)\n",
      "198         Tokyo   POINT (139.74946 35.68696)\n",
      "199         Paris     POINT (2.33139 48.86864)\n",
      "200      Santiago  POINT (-70.66899 -33.44807)\n",
      "201     Singapore    POINT (103.85387 1.29498)\n",
      "\n",
      "[202 rows x 2 columns]\n"
     ]
    }
   ],
   "source": [
    "print(capitals)"
   ]
  },
  {
   "cell_type": "code",
   "execution_count": 6,
   "metadata": {},
   "outputs": [
    {
     "ename": "NameError",
     "evalue": "name 'plot' is not defined",
     "output_type": "error",
     "traceback": [
      "\u001b[0;31m---------------------------------------------------------------------------\u001b[0m",
      "\u001b[0;31mNameError\u001b[0m                                 Traceback (most recent call last)",
      "\u001b[0;32m<ipython-input-6-60379490db90>\u001b[0m in \u001b[0;36m<module>\u001b[0;34m\u001b[0m\n\u001b[0;32m----> 1\u001b[0;31m \u001b[0mplot\u001b[0m\u001b[0;34m(\u001b[0m\u001b[0mcapitals\u001b[0m\u001b[0;34m)\u001b[0m\u001b[0;34m\u001b[0m\u001b[0;34m\u001b[0m\u001b[0m\n\u001b[0m",
      "\u001b[0;31mNameError\u001b[0m: name 'plot' is not defined"
     ]
    }
   ],
   "source": []
  },
  {
   "cell_type": "code",
   "execution_count": null,
   "metadata": {},
   "outputs": [],
   "source": []
  }
 ],
 "metadata": {
  "kernelspec": {
   "display_name": "Python 3",
   "language": "python",
   "name": "python3"
  },
  "language_info": {
   "codemirror_mode": {
    "name": "ipython",
    "version": 3
   },
   "file_extension": ".py",
   "mimetype": "text/x-python",
   "name": "python",
   "nbconvert_exporter": "python",
   "pygments_lexer": "ipython3",
   "version": "3.8.5"
  }
 },
 "nbformat": 4,
 "nbformat_minor": 4
}

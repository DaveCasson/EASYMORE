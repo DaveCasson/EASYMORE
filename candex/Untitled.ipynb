{
 "cells": [
  {
   "cell_type": "code",
   "execution_count": 1,
   "metadata": {},
   "outputs": [
    {
     "name": "stdout",
     "output_type": "stream",
     "text": [
      "candex detects that target shapefile is in WGS84 (epsg:4326)\n",
      "candex detects that no fields are provided for ID, lat, lon and will assign those by itself\n"
     ]
    },
    {
     "name": "stderr",
     "output_type": "stream",
     "text": [
      "/Users/shg096/Desktop/candex_newgen/candex/candex.py:111: UserWarning: Geometry is in a geographic CRS. Results from 'centroid' are likely incorrect. Use 'GeoSeries.to_crs()' to re-project geometries to a projected CRS before this operation.\n",
      "\n",
      "  shp['lat_t'] = shp.centroid.y # centroid lat from target\n",
      "/Users/shg096/Desktop/candex_newgen/candex/candex.py:112: UserWarning: Geometry is in a geographic CRS. Results from 'centroid' are likely incorrect. Use 'GeoSeries.to_crs()' to re-project geometries to a projected CRS before this operation.\n",
      "\n",
      "  shp['lon_t'] = shp.centroid.x # centroid lon from target\n"
     ]
    },
    {
     "name": "stdout",
     "output_type": "stream",
     "text": [
      "candex detects point(s) as geometry of target shapefile and will apply small buffer to them\n",
      "candex will save standard shapefile for candex claculation as:\n",
      "../temporary/capitals_north_america_target_shapefile.shp\n",
      "candex detects that the varibales from the netCDF files are identicalin dimensions of the varibales and latitude and longitude\n",
      "candex detects that all the varibales have dimensions of:\n",
      "['time', 'latitude', 'longitude']\n",
      "candex detects that the longitude varibales has dimensions of:\n",
      "['longitude']\n",
      "candex detects that the latitude varibales has dimensions of:\n",
      "['latitude']\n",
      "candex detects case 1 - regular lat/lon\n",
      "candex is creating the shapefile from the netCDF file and saving it here:\n",
      "../temporary/capitals_north_america_source_shapefile.shp\n",
      "candex decides the netCDF file has longtitude values of -180 to 180; creating the extended\n",
      "candex saved the expanded shapefile at:\n",
      "../temporary/capitals_north_america_source_shapefile_expanded.shp\n"
     ]
    },
    {
     "name": "stderr",
     "output_type": "stream",
     "text": [
      "/Users/shg096/Desktop/candex_newgen/candex/candex.py:541: UserWarning: Geometry is in a geographic CRS. Results from 'area' are likely incorrect. Use 'GeoSeries.to_crs()' to re-project geometries to a projected CRS before this operation.\n",
      "\n",
      "  shp_1['AS1'] = shp_1.area\n",
      "/Users/shg096/Desktop/candex_newgen/candex/candex.py:545: UserWarning: Geometry is in a geographic CRS. Results from 'area' are likely incorrect. Use 'GeoSeries.to_crs()' to re-project geometries to a projected CRS before this operation.\n",
      "\n",
      "  shp_2['AS2'] = shp_2.area\n",
      "/Users/shg096/Desktop/candex_newgen/candex/candex.py:640: FutureWarning: Assigning CRS to a GeoDataFrame without a geometry column is now deprecated and will not be supported in the future.\n",
      "  pairs = gpd.GeoDataFrame(nei, columns=['idx1','idx2'], crs=df1.crs)\n",
      "/Users/shg096/Desktop/candex_newgen/candex/candex.py:644: FutureWarning: Assigning CRS to a GeoDataFrame without a geometry column is now deprecated and will not be supported in the future.\n",
      "  pairs = gpd.GeoDataFrame(pairs, columns=pairs.columns, crs=df1.crs)\n",
      "/Users/shg096/Desktop/candex_newgen/candex/candex.py:552: UserWarning: Geometry is in a geographic CRS. Results from 'area' are likely incorrect. Use 'GeoSeries.to_crs()' to re-project geometries to a projected CRS before this operation.\n",
      "\n",
      "  result['AINT'] = result['geometry'].area\n"
     ]
    },
    {
     "name": "stdout",
     "output_type": "stream",
     "text": [
      "Remapping ../data/Source_nc_ERA5/ERA5_NA_19790101.nc to ../output/capitals_north_america_remapped_1979-01-01-00-00-00.nc\n",
      "Started at date and time 2021-01-23 19:52:29.759717\n",
      "Ended   at date and time 2021-01-23 19:52:29.867462\n",
      "Remapping ../data/Source_nc_ERA5/ERA5_NA_19790102.nc to ../output/capitals_north_america_remapped_1979-01-02-00-00-00.nc\n",
      "Started at date and time 2021-01-23 19:52:29.873184\n",
      "Ended   at date and time 2021-01-23 19:52:29.968329\n",
      "Remapping ../data/Source_nc_ERA5/ERA5_NA_19790103.nc to ../output/capitals_north_america_remapped_1979-01-03-00-00-00.nc\n",
      "Started at date and time 2021-01-23 19:52:29.973769\n",
      "Ended   at date and time 2021-01-23 19:52:30.066184\n"
     ]
    }
   ],
   "source": [
    "from candex import candex\n",
    "\n",
    "cndx = candex()  # initialize candex object\n",
    "cndx.name_of_case              = 'capitals_north_america'\n",
    "cndx.temporary_candex_folder   = '../temporary/'\n",
    "cndx.name_of_target_shp        = '../data/target_shapefiles/Capitals_point.shp'\n",
    "cndx.name_of_nc_files          = '../data/Source_nc_ERA5/ERA5_NA_*.nc'\n",
    "cndx.name_of_var_name          = ['airtemp']\n",
    "cndx.name_of_var_lon           = 'longitude' \n",
    "cndx.name_of_var_lat           = 'latitude'\n",
    "cndx.name_of_var_time          = 'time'\n",
    "cndx.name_of_nc_output_folder  = '../output/'\n",
    "cndx.format_list               =  ['f4']\n",
    "cndx.fill_value_list           = ['-9999.00']\n",
    "#cndx.name_of_remap_file        = '../temporary/capitals_north_america_remapping.csv'\n",
    "\n",
    "# execute candex\n",
    "cndx.run_candex()\n"
   ]
  },
  {
   "cell_type": "code",
   "execution_count": 3,
   "metadata": {},
   "outputs": [
    {
     "name": "stdout",
     "output_type": "stream",
     "text": [
      "            S_1_name  ID_t      lat_t      lon_t           AS1  IDS1  \\\n",
      "0      Port-of-Spain    13  10.651997 -61.517031  2.000000e-10    13   \n",
      "1             Roseau    23  15.301016 -61.387013  2.000000e-10    23   \n",
      "2         Bridgetown    27  13.102003 -59.616527  2.000000e-10    27   \n",
      "3          Kingstown    29  13.148279 -61.212062  2.000000e-10    29   \n",
      "4           Castries    30  14.001973 -61.000008  2.000000e-10    30   \n",
      "5         Basseterre    31  17.302030 -62.717009  2.000000e-10    31   \n",
      "6     Saint George's    33  12.052633 -61.741643  2.000000e-10    33   \n",
      "7       Saint John's    35  17.118037 -61.850034  2.000000e-10    35   \n",
      "8        Tegucigalpa    45  14.103991 -87.219475  2.000000e-10    45   \n",
      "9         Georgetown    46   6.801974 -58.167029  2.000000e-10    46   \n",
      "10    Port-au-Prince    48  18.542970 -72.337980  2.000000e-10    48   \n",
      "11        Paramaribo    50   5.835030 -55.167031  2.000000e-10    50   \n",
      "12           Managua    54  12.154962 -86.270438  2.000000e-10    54   \n",
      "13       Panama City    62   8.969963 -79.534983  2.000000e-10    62   \n",
      "14          San Jose    81   9.936958 -84.085997  2.000000e-10    81   \n",
      "15      San Salvador    82  13.711948 -89.204987  2.000000e-10    82   \n",
      "16          Kingston    83  17.977077 -76.767434  2.000000e-10    83   \n",
      "17         Guatemala    90  14.623081 -90.528911  2.000000e-10    90   \n",
      "18            Ottawa   102  45.418643 -75.701961  2.000000e-10   102   \n",
      "19          Belmopan   106  17.252034 -88.767073  2.000000e-10   106   \n",
      "20            Nassau   132  25.083390 -77.350044  2.000000e-10   132   \n",
      "21            Havana   149  23.133905 -82.366128  2.000000e-10   149   \n",
      "22     Santo Domingo   152  18.472019 -69.902031  2.000000e-10   152   \n",
      "23           Caracas   164  10.502944 -66.918983  2.000000e-10   164   \n",
      "24  Washington, D.C.   187  38.901495 -77.011364  2.000000e-10   187   \n",
      "25       Mexico City   192  19.444388 -99.132934  2.000000e-10   192   \n",
      "\n",
      "        ID_s  lat_s  lon_s     AS2    IDS2          AINT  AP1           AP2  \\\n",
      "0   123058.0  10.75 -61.50  0.0625  223169  2.000000e-10  1.0  3.200000e-09   \n",
      "1   114436.0  15.25 -61.50  0.0625  214547  2.000000e-10  1.0  3.200000e-09   \n",
      "2   118755.0  13.00 -59.50  0.0625  218866  2.000000e-10  1.0  3.200000e-09   \n",
      "3   118269.0  13.25 -61.25  0.0625  218380  2.000000e-10  1.0  3.200000e-09   \n",
      "4   116833.0  14.00 -61.00  0.0625  216944  2.000000e-10  1.0  3.200000e-09   \n",
      "5   110599.0  17.25 -62.75  0.0625  210710  2.000000e-10  1.0  3.200000e-09   \n",
      "6   120662.0  12.00 -61.75  0.0625  220773  2.000000e-10  1.0  3.200000e-09   \n",
      "7   111082.0  17.00 -61.75  0.0625  211193  2.000000e-10  1.0  3.200000e-09   \n",
      "8   116728.0  14.00 -87.25  0.0625  216839  2.000000e-10  1.0  3.200000e-09   \n",
      "9   130735.0   6.75 -58.25  0.0625  230846  2.000000e-10  1.0  3.200000e-09   \n",
      "10  108166.0  18.50 -72.25  0.0625  208277  2.000000e-10  1.0  3.200000e-09   \n",
      "11  132663.0   5.75 -55.25  0.0625  232774  2.000000e-10  1.0  3.200000e-09   \n",
      "12  120085.0  12.25 -86.25  0.0625  220196  2.000000e-10  1.0  3.200000e-09   \n",
      "13  126339.0   9.00 -79.50  0.0625  226450  2.000000e-10  1.0  3.200000e-09   \n",
      "14  124405.0  10.00 -84.00  0.0625  224516  2.000000e-10  1.0  3.200000e-09   \n",
      "15  117199.0  13.75 -89.25  0.0625  217310  2.000000e-10  1.0  3.200000e-09   \n",
      "16  109106.0  18.00 -76.75  0.0625  209217  2.000000e-10  1.0  3.200000e-09   \n",
      "17  115757.0  14.50 -90.50  0.0625  215868  2.000000e-10  1.0  3.200000e-09   \n",
      "18   56420.0  45.50 -75.75  0.0625  156531  2.000000e-10  1.0  3.200000e-09   \n",
      "19  110495.0  17.25 -88.75  0.0625  210606  2.000000e-10  1.0  3.200000e-09   \n",
      "20   95692.0  25.00 -77.25  0.0625  195803  2.000000e-10  1.0  3.200000e-09   \n",
      "21   99025.0  23.25 -82.25  0.0625  199136  2.000000e-10  1.0  3.200000e-09   \n",
      "22  108175.0  18.50 -70.00  0.0625  208286  2.000000e-10  1.0  3.200000e-09   \n",
      "23  123515.0  10.50 -67.00  0.0625  223626  2.000000e-10  1.0  3.200000e-09   \n",
      "24   68869.0  39.00 -77.00  0.0625  168980  2.000000e-10  1.0  3.200000e-09   \n",
      "25  106142.0  19.50 -99.25  0.0625  206253  2.000000e-10  1.0  3.200000e-09   \n",
      "\n",
      "    weight  AP2N                                           geometry  \n",
      "0      1.0   1.0  POLYGON ((-61.51702 10.65200, -61.51703 10.651...  \n",
      "1      1.0   1.0  POLYGON ((-61.38700 15.30102, -61.38701 15.301...  \n",
      "2      1.0   1.0  POLYGON ((-59.61652 13.10200, -59.61653 13.101...  \n",
      "3      1.0   1.0  POLYGON ((-61.21205 13.14828, -61.21206 13.148...  \n",
      "4      1.0   1.0  POLYGON ((-61.00000 14.00197, -61.00001 14.001...  \n",
      "5      1.0   1.0  POLYGON ((-62.71700 17.30203, -62.71701 17.302...  \n",
      "6      1.0   1.0  POLYGON ((-61.74163 12.05263, -61.74164 12.052...  \n",
      "7      1.0   1.0  POLYGON ((-61.85002 17.11804, -61.85003 17.118...  \n",
      "8      1.0   1.0  POLYGON ((-87.21947 14.10399, -87.21948 14.103...  \n",
      "9      1.0   1.0  POLYGON ((-58.16702 6.80197, -58.16703 6.80196...  \n",
      "10     1.0   1.0  POLYGON ((-72.33797 18.54297, -72.33798 18.542...  \n",
      "11     1.0   1.0  POLYGON ((-55.16702 5.83503, -55.16703 5.83502...  \n",
      "12     1.0   1.0  POLYGON ((-86.27043 12.15496, -86.27044 12.154...  \n",
      "13     1.0   1.0  POLYGON ((-79.53497 8.96996, -79.53498 8.96995...  \n",
      "14     1.0   1.0  POLYGON ((-84.08599 9.93696, -84.08600 9.93695...  \n",
      "15     1.0   1.0  POLYGON ((-89.20498 13.71195, -89.20499 13.711...  \n",
      "16     1.0   1.0  POLYGON ((-76.76742 17.97708, -76.76743 17.977...  \n",
      "17     1.0   1.0  POLYGON ((-90.52890 14.62308, -90.52891 14.623...  \n",
      "18     1.0   1.0  POLYGON ((-75.70195 45.41864, -75.70196 45.418...  \n",
      "19     1.0   1.0  POLYGON ((-88.76706 17.25203, -88.76707 17.252...  \n",
      "20     1.0   1.0  POLYGON ((-77.35003 25.08339, -77.35004 25.083...  \n",
      "21     1.0   1.0  POLYGON ((-82.36612 23.13390, -82.36613 23.133...  \n",
      "22     1.0   1.0  POLYGON ((-69.90202 18.47202, -69.90203 18.472...  \n",
      "23     1.0   1.0  POLYGON ((-66.91897 10.50294, -66.91898 10.502...  \n",
      "24     1.0   1.0  POLYGON ((-77.01135 38.90150, -77.01136 38.901...  \n",
      "25     1.0   1.0  POLYGON ((-99.13292 19.44439, -99.13293 19.444...  \n",
      "<xarray.Dataset>\n",
      "Dimensions:    (ID: 26, time: 72)\n",
      "Coordinates:\n",
      "  * time       (time) datetime64[ns] 1979-01-01 ... 1979-01-03T23:00:00\n",
      "  * ID         (ID) float64 13.0 23.0 27.0 29.0 30.0 ... 152.0 164.0 187.0 192.0\n",
      "Data variables:\n",
      "    latitude   (ID) float64 10.65 15.3 13.1 13.15 14.0 ... 18.47 10.5 38.9 19.44\n",
      "    longitude  (ID) float64 -61.52 -61.39 -59.62 -61.21 ... -66.92 -77.01 -99.13\n",
      "    airtemp    (time, ID) float32 298.40106 297.68884 ... 264.68134 287.78055\n",
      "<xarray.DataArray 'ID' (ID: 26)>\n",
      "array([ 13.,  23.,  27.,  29.,  30.,  31.,  33.,  35.,  45.,  46.,  48.,  50.,\n",
      "        54.,  62.,  81.,  82.,  83.,  90., 102., 106., 132., 149., 152., 164.,\n",
      "       187., 192.])\n",
      "Coordinates:\n",
      "  * ID       (ID) float64 13.0 23.0 27.0 29.0 30.0 ... 152.0 164.0 187.0 192.0\n",
      "Attributes:\n",
      "    long_name:  subbasin ID\n",
      "    units:      1\n",
      "<xarray.Dataset>\n",
      "Dimensions:    (time: 72)\n",
      "Coordinates:\n",
      "  * time       (time) datetime64[ns] 1979-01-01 ... 1979-01-03T23:00:00\n",
      "    ID         float64 187.0\n",
      "Data variables:\n",
      "    latitude   float64 38.9\n",
      "    longitude  float64 -77.01\n",
      "    airtemp    (time) float32 6.0299683 6.354553 ... -8.482941 -8.318665\n",
      "<xarray.Dataset>\n",
      "Dimensions:    (time: 72)\n",
      "Coordinates:\n",
      "  * time       (time) datetime64[ns] 1979-01-01 ... 1979-01-03T23:00:00\n",
      "    ID         float64 192.0\n",
      "Data variables:\n",
      "    latitude   float64 19.44\n",
      "    longitude  float64 -99.13\n",
      "    airtemp    (time) float32 17.350922 16.18924 ... 15.860718 14.780548\n"
     ]
    },
    {
     "data": {
      "text/plain": [
       "[<matplotlib.lines.Line2D at 0x7f8c299a98e0>]"
      ]
     },
     "execution_count": 3,
     "metadata": {},
     "output_type": "execute_result"
    },
    {
     "data": {
      "image/png": "[encoded data removed]",
      "text/plain": [
       "<Figure size 432x288 with 1 Axes>"
      ]
     },
     "metadata": {
      "needs_background": "light"
     },
     "output_type": "display_data"
    }
   ],
   "source": [
    "# visualize the result\n",
    "import geopandas as gpd\n",
    "import xarray as xr\n",
    "import glob\n",
    "shp = gpd.read_file('../temporary/capitals_north_america_intersected_shapefile.shp')\n",
    "print(shp)\n",
    "ds = xr.merge([xr.open_dataset(f) for f in sorted(glob.glob('../output/capitals_north_america_remapped_*.nc'))])\n",
    "print(ds)\n",
    "print(ds.ID)\n",
    "ds.airtemp [:,:] = ds.airtemp[:,:] - 273;\n",
    "\n",
    "WashingtonDC = ds.sel(ID=187, method = 'nearest') # ID_t, the target ID for Washington DC is 187\n",
    "print(WashingtonDC)\n",
    "WashingtonDC.airtemp.plot()\n",
    "\n",
    "MexicoCity = ds.sel(ID=192, method = 'nearest') # ID_t, the target ID for Washington DC is 192\n",
    "print(MexicoCity)\n",
    "MexicoCity.airtemp.plot()\n"
   ]
  },
  {
   "cell_type": "code",
   "execution_count": 40,
   "metadata": {},
   "outputs": [
    {
     "name": "stdout",
     "output_type": "stream",
     "text": [
      "             name                     geometry\n",
      "0    Vatican City    POINT (12.45339 41.90328)\n",
      "1      San Marino    POINT (12.44177 43.93610)\n",
      "2           Vaduz     POINT (9.51667 47.13372)\n",
      "3      Luxembourg     POINT (6.13000 49.61166)\n",
      "4         Palikir    POINT (158.14997 6.91664)\n",
      "..            ...                          ...\n",
      "197         Cairo    POINT (31.24802 30.05191)\n",
      "198         Tokyo   POINT (139.74946 35.68696)\n",
      "199         Paris     POINT (2.33139 48.86864)\n",
      "200      Santiago  POINT (-70.66899 -33.44807)\n",
      "201     Singapore    POINT (103.85387 1.29498)\n",
      "\n",
      "[202 rows x 2 columns]\n"
     ]
    }
   ],
   "source": [
    "shp = gpd.read_file('../data/target_shapefiles/Capitals_point.shp')\n",
    "print(shp)"
   ]
  },
  {
   "cell_type": "code",
   "execution_count": 21,
   "metadata": {},
   "outputs": [
    {
     "name": "stdout",
     "output_type": "stream",
     "text": [
      "                                             geometry          name\n",
      "ID                                                                 \n",
      "1   MULTIPOINT (-175.22056 -21.13851, -171.73864 -...  Vatican City\n"
     ]
    }
   ],
   "source": [
    "shp = gpd.read_file ('../data/target_shapefiles/Capitals_point.shp')\n",
    "shp['ID'] = 1\n",
    "shp = shp.dissolve(by = 'ID')\n",
    "print(shp)\n",
    "shp.to_file('../data/target_shapefiles/Capitals_multipoints.shp')"
   ]
  },
  {
   "cell_type": "code",
   "execution_count": null,
   "metadata": {},
   "outputs": [],
   "source": []
  }
 ],
 "metadata": {
  "kernelspec": {
   "display_name": "Python 3",
   "language": "python",
   "name": "python3"
  },
  "language_info": {
   "codemirror_mode": {
    "name": "ipython",
    "version": 3
   },
   "file_extension": ".py",
   "mimetype": "text/x-python",
   "name": "python",
   "nbconvert_exporter": "python",
   "pygments_lexer": "ipython3",
   "version": "3.8.5"
  }
 },
 "nbformat": 4,
 "nbformat_minor": 4
}

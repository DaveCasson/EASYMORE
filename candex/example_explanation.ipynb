{
 "cells": [
  {
   "cell_type": "markdown",
   "metadata": {},
   "source": [
    "# remaping from a netCDF file to shapefile"
   ]
  },
  {
   "cell_type": "markdown",
   "metadata": {},
   "source": [
    "### In order to map the netcdf into boundaries of a shapefile we should follow the follwoing steps"
   ]
  },
  {
   "cell_type": "markdown",
   "metadata": {},
   "source": [
    "# Step 1 preparing the target shapefile\n",
    "### Target shapefile is basin or catchment areas that we intend to have a remap of varibales for that.\n",
    "### we read a shapefile and prepare the filed names that are needed for candex to operate.\n"
   ]
  },
  {
   "cell_type": "code",
   "execution_count": 10,
   "metadata": {},
   "outputs": [
    {
     "name": "stdout",
     "output_type": "stream",
     "text": [
      "      COMID    unitarea  flag  \\\n",
      "0  71032440  107.012467     0   \n",
      "1  71032422   50.929339     0   \n",
      "2  71032409   65.791372     0   \n",
      "3  71032292   25.591308     0   \n",
      "4  71032217   56.835431     0   \n",
      "\n",
      "                                            geometry  \n",
      "0  POLYGON ((-116.47042 51.73542, -116.46708 51.7...  \n",
      "1  POLYGON ((-116.34125 51.71542, -116.34042 51.7...  \n",
      "2  MULTIPOLYGON (((-116.25208 51.71042, -116.2429...  \n",
      "3  POLYGON ((-116.07792 51.65458, -116.07458 51.6...  \n",
      "4  POLYGON ((-116.23708 51.65208, -116.23458 51.6...  \n",
      "Index(['COMID', 'unitarea', 'flag', 'geometry'], dtype='object')\n"
     ]
    },
    {
     "data": {
      "text/plain": [
       "Text(99.36589273042097, 0.5, 'Lat')"
      ]
     },
     "execution_count": 10,
     "metadata": {},
     "output_type": "execute_result"
    },
    {
     "data": {
      "image/png": "[encoded data removed]",
      "text/plain": [
       "<Figure size 432x288 with 1 Axes>"
      ]
     },
     "metadata": {
      "needs_background": "light"
     },
     "output_type": "display_data"
    }
   ],
   "source": [
    "# cell 1: load the shapefile, check the filed or create the necessaary fields\n",
    "import geopandas as gpd\n",
    "import matplotlib.pyplot as plt\n",
    "\n",
    "# target shapefile is what we want the varibales to be remapped to\n",
    "shp = gpd.read_file('../data/target_shp/Bow.shp') \n",
    "print(shp.head()) # show the first five row of the shapefile\n",
    "print(shp.columns) # print existing fields in the shapefile\n",
    "\n",
    "# plotting\n",
    "shp.geometry.boundary.plot(color=None,edgecolor='k',linewidth = 2)\n",
    "plt.xlabel('Lon')\n",
    "plt.ylabel('Lat')"
   ]
  },
  {
   "cell_type": "code",
   "execution_count": 2,
   "metadata": {},
   "outputs": [
    {
     "name": "stdout",
     "output_type": "stream",
     "text": [
      "       ID_t    unitarea  flag  \\\n",
      "0  71032440  107.012467     0   \n",
      "1  71032422   50.929339     0   \n",
      "2  71032409   65.791372     0   \n",
      "3  71032292   25.591308     0   \n",
      "4  71032217   56.835431     0   \n",
      "\n",
      "                                            geometry      lat_t       lon_t  \n",
      "0  POLYGON ((-116.47042 51.73542, -116.46708 51.7...  51.665703 -116.444195  \n",
      "1  POLYGON ((-116.34125 51.71542, -116.34042 51.7...  51.670710 -116.304323  \n",
      "2  MULTIPOLYGON (((-116.25208 51.71042, -116.2429...  51.661669 -116.176104  \n",
      "3  POLYGON ((-116.07792 51.65458, -116.07458 51.6...  51.625792 -116.088587  \n",
      "4  POLYGON ((-116.23708 51.65208, -116.23458 51.6...  51.597677 -116.224405  \n"
     ]
    },
    {
     "name": "stderr",
     "output_type": "stream",
     "text": [
      "<ipython-input-2-d5cc5f574b3c>:3: UserWarning: Geometry is in a geographic CRS. Results from 'centroid' are likely incorrect. Use 'GeoSeries.to_crs()' to re-project geometries to a projected CRS before this operation.\n",
      "\n",
      "  shp['lat_t'] = shp.centroid.y # lat from target\n",
      "<ipython-input-2-d5cc5f574b3c>:4: UserWarning: Geometry is in a geographic CRS. Results from 'centroid' are likely incorrect. Use 'GeoSeries.to_crs()' to re-project geometries to a projected CRS before this operation.\n",
      "\n",
      "  shp['lon_t'] = shp.centroid.x # lon from target\n"
     ]
    }
   ],
   "source": [
    "# cell 2: prepare the needed fields; renaming adding centeroid lat and lon values\n",
    "shp = shp.rename (columns={'COMID':'ID_t'}); # change the COMID to \"ID_t\" ID from target\n",
    "shp['lat_t'] = shp.centroid.y # lat from target\n",
    "shp['lon_t'] = shp.centroid.x # lon from target\n",
    "print(shp.head()) # show the first 5 rows of the shapefile after renaming and adding centroid\n",
    "shp.to_file('../data/target_shp/Bow_standard.shp') # save the file as a standard format"
   ]
  },
  {
   "cell_type": "markdown",
   "metadata": {},
   "source": [
    "# Step 2, preparing the shapefile from nc file(s)\n",
    "### netxt step is to prepared the shapefile from coordinated (lat/lon) in shapefiles\n",
    "### the code suports three cases:\n",
    "###    1- the source netcdf file is in regular lat/lon (this example)\n",
    "###    2- the source netcdf file has rotated lat/lon meaning that each point has it own lat/lon\n",
    "###    3- the course netcdf file is irregular and comes with a netcdf file that holds the geopstila information of the netCDF values\n",
    "### in this example we have a netCDF in regular lat/lon form to subbasin. The netCDF files are saved in daily fashion for 3 days (the first three days of january 1979).\n",
    "### Assuming the location and extend of all the netcdf files similar we assume that the first shapefile applies to the other netcdf files as well\n",
    "### candex support simple change from cordination of 0-360 to -180-180 for convinece. However this functionality wont work in areas near lon of 0 where 0 and 360 comes toegtehr."
   ]
  },
  {
   "cell_type": "code",
   "execution_count": 3,
   "metadata": {},
   "outputs": [],
   "source": [
    "# cell 3: read one sample of nc file\n",
    "from candex import *"
   ]
  },
  {
   "cell_type": "code",
   "execution_count": 4,
   "metadata": {},
   "outputs": [
    {
     "name": "stdout",
     "output_type": "stream",
     "text": [
      "case 1 - regular lat/lon\n"
     ]
    }
   ],
   "source": [
    "# cell 4: specifiying the parameter for creating the source shapefile\n",
    "name_of_nc = '../data/source_nc/ERA5_NA_19790101.nc' # name of the sample nc file (give only one if there are separaete file for each year or month)\n",
    "name_of_variable = 'airtemp' # sample varibale from nc file (similar to all the dimensions for all the varibales with intend to read)\n",
    "name_of_lon_var = 'longitude' # name of varibale in nc file (and not dimension) that holed the longituge values\n",
    "name_of_lat_var = 'latitude' # name of varibale in nc file (and not dimension) that holds the latitiute values\n",
    "box_values =  np.array([50,52,-118,-115]) # or False# # bounding box the trim the created shepefile\n",
    "correct_360 = False # if the nc file is 0 to 360 and want to transfor to -180 to 180 (in the case the box_value should be in either of east or west hemisphere)\n",
    "name_of_shp = '../data/source_shp/Era5_NA.shp' # name of the shapefile that is created and saved\n",
    "\n",
    "# creating the shapefile and preparing the 2D lat/lon field based on shapefile for indexing\n",
    "lat_2D, lon_2D = NetCDF_SHP_lat_lon(name_of_nc, name_of_variable, name_of_lat_var,\n",
    "                                            name_of_lon_var, name_of_shp, box_values, correct_360)"
   ]
  },
  {
   "cell_type": "code",
   "execution_count": 5,
   "metadata": {},
   "outputs": [
    {
     "name": "stdout",
     "output_type": "stream",
     "text": [
      "   ID_s  lat_s   lon_s                                           geometry\n",
      "0   1.0  51.75 -117.75  POLYGON ((-117.87500 51.75000, -117.87500 51.8...\n",
      "1   2.0  51.50 -117.75  POLYGON ((-117.87500 51.50000, -117.87500 51.6...\n",
      "2   3.0  51.25 -117.75  POLYGON ((-117.87500 51.25000, -117.87500 51.3...\n",
      "3   4.0  51.00 -117.75  POLYGON ((-117.87500 51.00000, -117.87500 51.1...\n",
      "4   5.0  50.75 -117.75  POLYGON ((-117.87500 50.75000, -117.87500 50.8...\n"
     ]
    },
    {
     "data": {
      "text/plain": [
       "Text(14.25, 0.5, 'Lat')"
      ]
     },
     "execution_count": 5,
     "metadata": {},
     "output_type": "execute_result"
    },
    {
     "data": {
      "image/png": "[encoded data removed]",
      "text/plain": [
       "<Figure size 432x288 with 1 Axes>"
      ]
     },
     "metadata": {
      "needs_background": "light"
     },
     "output_type": "display_data"
    }
   ],
   "source": [
    "# cell 5: drawing the created shapefile\n",
    "shp_source = gpd.read_file('../data/source_shp/Era5_NA.shp') # load it\n",
    "print(shp_source.head()) # show the first 5 rows\n",
    "# plotting\n",
    "shp_source.geometry.boundary.plot(color=None,edgecolor='k',linewidth = 2)\n",
    "plt.xlabel('Lon')\n",
    "plt.ylabel('Lat')"
   ]
  },
  {
   "cell_type": "markdown",
   "metadata": {},
   "source": [
    "# Step 3 intersection of the source and target shapefile and creation of remap data frame\n",
    "### In this section we intersect the two shapefile (source and target) to find the percent contribution of source in the target\n",
    "### we rename the targets to the standard name that it used for candex functions"
   ]
  },
  {
   "cell_type": "code",
   "execution_count": 6,
   "metadata": {},
   "outputs": [
    {
     "name": "stderr",
     "output_type": "stream",
     "text": [
      "/Users/shg096/Desktop/candex_newgen/candex/candex.py:242: UserWarning: Geometry is in a geographic CRS. Results from 'area' are likely incorrect. Use 'GeoSeries.to_crs()' to re-project geometries to a projected CRS before this operation.\n",
      "\n",
      "  shp_1['AS1'] = shp_1.area\n",
      "/Users/shg096/Desktop/candex_newgen/candex/candex.py:246: UserWarning: Geometry is in a geographic CRS. Results from 'area' are likely incorrect. Use 'GeoSeries.to_crs()' to re-project geometries to a projected CRS before this operation.\n",
      "\n",
      "  shp_2['AS2'] = shp_2.area\n",
      "/Users/shg096/Desktop/candex_newgen/candex/candex.py:327: FutureWarning: Assigning CRS to a GeoDataFrame without a geometry column is now deprecated and will not be supported in the future.\n",
      "  pairs = gpd.GeoDataFrame(nei, columns=['idx1','idx2'], crs=df1.crs)\n",
      "/Users/shg096/Desktop/candex_newgen/candex/candex.py:331: FutureWarning: Assigning CRS to a GeoDataFrame without a geometry column is now deprecated and will not be supported in the future.\n",
      "  pairs = gpd.GeoDataFrame(pairs, columns=pairs.columns, crs=df1.crs)\n",
      "/Users/shg096/Desktop/candex_newgen/candex/candex.py:253: UserWarning: Geometry is in a geographic CRS. Results from 'area' are likely incorrect. Use 'GeoSeries.to_crs()' to re-project geometries to a projected CRS before this operation.\n",
      "\n",
      "  result['AINT'] = result['geometry'].area\n"
     ]
    }
   ],
   "source": [
    "# cell 6: intersecting the target and source shapefile\n",
    "from candex import *\n",
    "\n",
    "shp_target = gpd.read_file('../data/target_shp/Bow_standard.shp') # save the file as a standard format\n",
    "shp_source = gpd.read_file('../data/source_shp/Era5_NA.shp') # save the file as a standard format\n",
    "\n",
    "# assign coordination (here both are defined as WGS1984)\n",
    "shp_target = shp_target.set_crs(\"EPSG:4326\") # in case is missing\n",
    "shp_source = shp_source.set_crs(\"EPSG:4326\") # in case if missing\n",
    "\n",
    "# intersection\n",
    "shp_int = intersection_shp (shp_target, shp_source)\n",
    "\n",
    "# rename dictionary\n",
    "dict_rename = {'S_1_ID_t' : 'ID_t',\n",
    "               'S_1_lat_t': 'lat_t',\n",
    "               'S_1_lon_t': 'lon_t',\n",
    "               'S_2_ID_s' : 'ID_s',\n",
    "               'S_2_lat_s': 'lat_s',\n",
    "               'S_2_lon_s': 'lon_s',\n",
    "               'AP1N'     : 'weight'}\n",
    "\n",
    "shp_int = shp_int.rename(columns=dict_rename) # rename fields\n",
    "shp_int = shp_int.sort_values(by=['ID_t']) # sort based on ID_t\n",
    "shp_int.to_file('../data/intersection_shp/Bow_Era5_NA.shp') # save files"
   ]
  },
  {
   "cell_type": "code",
   "execution_count": 7,
   "metadata": {},
   "outputs": [],
   "source": [
    "# cell 7: indexing of the source lat/lon to row and colomns in nc file\n",
    "remap_df = Dbf5('../data/intersection_shp/Bow_Era5_NA.dbf') # to intersection cat and ERA5\n",
    "remap_df = remap_df.to_dataframe()\n",
    "\n",
    "#\n",
    "rows, cols = lat_lon_to_index(np.array(remap_df['lat_s']),\n",
    "                              np.array(remap_df['lon_s']),\n",
    "                              lat_2D,\n",
    "                              lon_2D)\n",
    "remap_df['rows'] = rows\n",
    "remap_df['cols'] = cols\n",
    "\n",
    "# save remap_df as csv for future use\n",
    "remap_df.to_csv('../data/remap/remap.csv')"
   ]
  },
  {
   "cell_type": "markdown",
   "metadata": {},
   "source": [
    "# Step 4 resample nc file(s)\n",
    "### does the remap and write the nc file for each procided source nc file.\n",
    "### the time, calendar, time units, varibales units are carried to the remapped nc file from source."
   ]
  },
  {
   "cell_type": "code",
   "execution_count": 8,
   "metadata": {},
   "outputs": [
    {
     "name": "stdout",
     "output_type": "stream",
     "text": [
      "Remapping ../data/source_nc/ERA5_NA_19790101.nc to ../data/target_nc/remapped_1979-01-01-00-00-00.nc\n",
      "Started at date and time 2020-11-29 19:38:25.585165\n",
      "Ended   at date and time 2020-11-29 19:38:25.804869\n",
      "Remapping ../data/source_nc/ERA5_NA_19790102.nc to ../data/target_nc/remapped_1979-01-02-00-00-00.nc\n",
      "Started at date and time 2020-11-29 19:38:25.809210\n",
      "Ended   at date and time 2020-11-29 19:38:25.997250\n",
      "Remapping ../data/source_nc/ERA5_NA_19790103.nc to ../data/target_nc/remapped_1979-01-03-00-00-00.nc\n",
      "Started at date and time 2020-11-29 19:38:26.001333\n",
      "Ended   at date and time 2020-11-29 19:38:26.224305\n"
     ]
    }
   ],
   "source": [
    "# loading the remap csv\n",
    "remap_df = pd.read_csv('../data/remap/remap.csv')\n",
    "\n",
    "# listing the nc files\n",
    "nc_names = '../data/source_nc/ERA5_NA_197901*.nc' # if there are multiple nc file can be pecify by *\n",
    "output_path = '../data/target_nc/remapped_' # the path and the inital part of the remapped nc files\n",
    "name_of_var_time = 'time' # dimension of time in the source nc files\n",
    "name_of_vars = ['airtemp','pptrate'] #varibale that need to be remapped\n",
    "# format of the varibales\n",
    "format_of_vars = ['f4','f4'] # type of the varibale that need to be remapped f4 single, f8 double, int, integer\n",
    "fill_values = ['-9999.00','-9999.00'] # Fill values for each varibale\n",
    "authour_name = 'Shervan Gharari, Computational Hydrology Team, The University of Saskatchewan' # the authour\n",
    "\n",
    "\n",
    "target_nc_creation(nc_names,\n",
    "                   remap_df,\n",
    "                   name_of_var_time,\n",
    "                   output_path,\n",
    "                   name_of_vars,\n",
    "                   format_of_vars,\n",
    "                   fill_values,\n",
    "                   authour_name)\n"
   ]
  }
 ],
 "metadata": {
  "kernelspec": {
   "display_name": "Python 3",
   "language": "python",
   "name": "python3"
  },
  "language_info": {
   "codemirror_mode": {
    "name": "ipython",
    "version": 3
   },
   "file_extension": ".py",
   "mimetype": "text/x-python",
   "name": "python",
   "nbconvert_exporter": "python",
   "pygments_lexer": "ipython3",
   "version": "3.8.5"
  }
 },
 "nbformat": 4,
 "nbformat_minor": 4
}

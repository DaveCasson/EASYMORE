{
 "cells": [
  {
   "cell_type": "markdown",
   "metadata": {},
   "source": [
    "# An example of using candex with source netCDF files in regular Latitude and Longitude\n",
    "## Remapping of ERA5 to subbasins of South Saskatchewan River at Medicine Hat, Alberta, Canada."
   ]
  },
  {
   "cell_type": "code",
   "execution_count": null,
   "metadata": {},
   "outputs": [
    {
     "name": "stdout",
     "output_type": "stream",
     "text": [
      "no  author name is provide and the author name is changes to (author name)!\n",
      "candex is given multiple varibales to be remapped but only on format and fill valuecandex repeat the format and fill value for all the variables in output files\n",
      "candex detects that target shapefile is in WGS84 (epsg:4326)\n",
      "candex detects that no fields are provided for ID, lat, lon and will assign those by itself\n"
     ]
    },
    {
     "name": "stderr",
     "output_type": "stream",
     "text": [
      "/Users/shg096/opt/anaconda3/lib/python3.8/site-packages/candex/candex.py:139: UserWarning: Geometry is in a geographic CRS. Results from 'centroid' are likely incorrect. Use 'GeoSeries.to_crs()' to re-project geometries to a projected CRS before this operation.\n",
      "\n",
      "  shp['lat_t'] = shp.centroid.y # centroid lat from target\n",
      "/Users/shg096/opt/anaconda3/lib/python3.8/site-packages/candex/candex.py:140: UserWarning: Geometry is in a geographic CRS. Results from 'centroid' are likely incorrect. Use 'GeoSeries.to_crs()' to re-project geometries to a projected CRS before this operation.\n",
      "\n",
      "  shp['lon_t'] = shp.centroid.x # centroid lon from target\n"
     ]
    },
    {
     "name": "stdout",
     "output_type": "stream",
     "text": [
      "candex will save standard shapefile for candex claculation as:\n",
      "../temporary/ERA5_Medicine_Hat_target_shapefile.shp\n",
      "candex detects that the varibales from the netCDF files are identicalin dimensions of the varibales and latitude and longitude\n",
      "candex detects that all the varibales have dimensions of:\n",
      "['time', 'latitude', 'longitude']\n",
      "candex detects that the longitude varibales has dimensions of:\n",
      "['longitude']\n",
      "candex detects that the latitude varibales has dimensions of:\n",
      "['latitude']\n",
      "candex detects case 1 - regular lat/lon\n",
      "[-0.25]\n",
      "(1,)\n",
      "[0.25]\n",
      "(1,)\n",
      "candex is creating the shapefile from the netCDF file and saving it here:\n",
      "../temporary/ERA5_Medicine_Hat_source_shapefile.shp\n",
      "candex decides the netCDF file has longtitude values of -180 to 180; creating the extended\n"
     ]
    }
   ],
   "source": [
    "# loading candex\n",
    "from candex.candex import candex\n",
    "\n",
    "# initializing candex object\n",
    "cndx = candex()\n",
    "\n",
    "# specifying candex needed arguments\n",
    "cndx.name_of_case             = 'ERA5_Medicine_Hat' # name of the case\n",
    "cndx.temporary_candex_folder  = '../temporary/' # temporary path that the candex generated GIS files and rempped file will be saved\n",
    "cndx.name_of_target_shp       = '../data/target_shapefiles/South_Saskatchewan_MedicineHat.shp' # target shapefile that the source will be remmaped to\n",
    "cndx.name_of_nc_files         = '../data/Source_nc_ERA5/ERA5_NA_*.nc' # name of netCDF file(s) if multiple you can specify with *\n",
    "cndx.name_of_var_name         = ['airtemp','pptrate'] # name of variables from source netCDF file(s) to be remapped\n",
    "cndx.name_of_var_lon          = 'longitude' # name of varibale longitude in source netCDF files \n",
    "cndx.name_of_var_lat          = 'latitude' # name of variable latitude in source netCDF files\n",
    "cndx.name_of_var_time         = 'time' # name of varibale time in source netCDF file\n",
    "cndx.name_of_nc_output_folder = '../output/' # location where the remapped netCDF file will be saved\n",
    "cndx.format_list              =  ['f4']#,'f4'] # format of the varibales to be saved with\n",
    "cndx.fill_value_list          = ['-9999.00']#,'-9999.00'] # missing values for the varibales\n",
    "#cndx.name_of_remap_file        = '../temporary/ERA5_Medicine_Hat_remapping.csv' # if uncommneted candex will use this and skip GIS taskes\n",
    "\n",
    "# execute candex\n",
    "cndx.run_candex()\n"
   ]
  },
  {
   "cell_type": "markdown",
   "metadata": {},
   "source": [
    "--------------\n",
    "--------------\n",
    "# Visualization of the source and the results"
   ]
  },
  {
   "cell_type": "code",
   "execution_count": null,
   "metadata": {},
   "outputs": [],
   "source": [
    "# visualize the result\n",
    "import geopandas as gpd\n",
    "import xarray as xr\n",
    "import glob\n",
    "import pandas as pd\n",
    "import numpy as np\n",
    "import matplotlib.pyplot as plt\n",
    "import matplotlib\n",
    "font = {'family' : 'Times New Roman',\n",
    "         'weight' : 'bold',\n",
    "         'size'   : 24}\n",
    "matplotlib.rc('font', **font)\n",
    "\n",
    "\n",
    "# visualize the original netCDF for the first file, first time step\n",
    "shp_target = gpd.read_file(cndx.name_of_target_shp) # load the target shapefile\n",
    "# load the first source netcdf file\n",
    "nc_name = sorted(glob.glob(cndx.name_of_nc_files))\n",
    "ds_source = xr.open_dataset(nc_name[0])\n",
    "# subset the region of interest:\n",
    "lat_lim = np.array([ 48.2 , 51.7 ]) # limit for lat\n",
    "lon_lim = np.array([ -116.5 , -110.5 ]) # limit for lon\n",
    "lats = np.array(ds_source.variables[cndx.name_of_var_lat][:] )\n",
    "lons = np.array(ds_source.variables[cndx.name_of_var_lon][:])\n",
    "lat_low = np.argmin( np.abs( lats - lat_lim[0] ) )\n",
    "lat_up = np.argmin( np.abs( lats - lat_lim[1] ) )\n",
    "lon_low = np.argmin( np.abs( lons - lon_lim[0] ) )\n",
    "lon_up = np.argmin( np.abs( lons - lon_lim[1] ) )\n",
    "if lat_up < lat_low:\n",
    "    temp = lat_low\n",
    "    lat_low = lat_up\n",
    "    lat_up = temp\n",
    "if lon_up < lon_low:\n",
    "    temp = lon_low\n",
    "    lon_low = lon_up\n",
    "    lon_up = temp\n",
    "ds_source = ds_source.isel(latitude=np.arange(lat_low,lat_up))\n",
    "ds_source = ds_source.isel(longitude=np.arange(lon_low,lon_up))\n",
    "# plotting\n",
    "f, axes = plt.subplots(1,1,figsize=(15,15))\n",
    "ds_source.airtemp[0,:,:].plot( ax = axes)\n",
    "shp_target.geometry.boundary.plot(color=None,edgecolor='k',linewidth = 1, ax = axes)\n",
    "\n",
    "\n",
    "# visualize the remapped netCDF for the first file, first time step\n",
    "# target nc file\n",
    "nc_names = sorted(glob.glob (cndx.name_of_nc_output_folder + cndx.name_of_case + '*.nc'))\n",
    "ds       = xr.open_dataset(nc_names[0]) # the first netcdf file\n",
    "values   = ds.airtemp [0,:] # the first time frame of the first \n",
    "IDs      = ds.ID [:] # get the ID\n",
    "# create a data frame for the model simulation\n",
    "df = pd.DataFrame()\n",
    "df ['value'] = values\n",
    "df ['ID_t']    = IDs  # .astype(int)\n",
    "df = df.sort_values (by = 'ID_t')\n",
    "# load the shape file target that is generated by candex (with consistent IDs)\n",
    "shp_target = gpd.read_file(cndx.temporary_candex_folder+ cndx.name_of_case + '_target_shapefile.shp') # load the target shapefile\n",
    "shp_target ['ID_t'] = shp_target ['ID_t'].astype(float)\n",
    "shp_target = shp_target.sort_values(by='ID_t')# sort on values\n",
    "shp_target = pd.merge_asof(shp_target, df, on='ID_t', direction='nearest')\n",
    "shp_target = shp_target.set_geometry('geometry') #bring back the geometry filed; pd to gpd\n",
    "# plotting\n",
    "f, axes = plt.subplots(1,1,figsize=(15,15))\n",
    "ds_source.airtemp[0,:,:].plot( ax = axes)\n",
    "ds_source.airtemp[0,:,:].plot( ax = axes, alpha = 1, add_colorbar=False)\n",
    "shp_target.plot(column= 'value', edgecolor='k',linewidth = 1, ax = axes )#, legend=True)\n",
    "\n"
   ]
  },
  {
   "cell_type": "code",
   "execution_count": null,
   "metadata": {},
   "outputs": [],
   "source": []
  }
 ],
 "metadata": {
  "kernelspec": {
   "display_name": "Python 3",
   "language": "python",
   "name": "python3"
  },
  "language_info": {
   "codemirror_mode": {
    "name": "ipython",
    "version": 3
   },
   "file_extension": ".py",
   "mimetype": "text/x-python",
   "name": "python",
   "nbconvert_exporter": "python",
   "pygments_lexer": "ipython3",
   "version": "3.8.5"
  }
 },
 "nbformat": 4,
 "nbformat_minor": 4
}

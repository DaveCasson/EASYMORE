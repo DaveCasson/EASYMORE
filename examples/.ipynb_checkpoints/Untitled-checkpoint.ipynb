{
 "cells": [
  {
   "cell_type": "code",
   "execution_count": 1,
   "id": "38185549",
   "metadata": {},
   "outputs": [
    {
     "name": "stdout",
     "output_type": "stream",
     "text": [
      "EASYMORE version 0.0.2 is initiated.\n"
     ]
    }
   ],
   "source": [
    "# loading EASYMORE\n",
    "from easymore.easymore import easymore\n",
    "\n",
    "# initializing EASYMORE object\n",
    "esmr = easymore()\n",
    "\n",
    "\n",
    "\n",
    "# execute EASYMORE\n",
    "esmr.dataframe_to_netcdf('../data/station_data/station_data.csv',\n",
    "                         'Date_time',\n",
    "                         '../data/station_data/station_data.nc',\n",
    "                            'ss',\n",
    "                            'sss',\n",
    "                            'ssss',\n",
    "                            time_step = 'seconds', # minutes, hours, or days\n",
    "                            calendar = 'standard',\n",
    "                            station_info_name = '../data/station_data/station_info.csv')\n",
    "\n"
   ]
  },
  {
   "cell_type": "code",
   "execution_count": 13,
   "id": "5c8c6748",
   "metadata": {},
   "outputs": [
    {
     "name": "stdout",
     "output_type": "stream",
     "text": [
      "     Station_1  Station_2  Station_3\n",
      "ID           1          3        100\n",
      "lat          3          4          5\n",
      "lon         -2         -7         -5\n",
      "[  1   3 100] [3 4 5] [-2 -7 -5]\n"
     ]
    }
   ],
   "source": [
    "import pandas as pd\n",
    "import numpy as np\n",
    "\n",
    "df = pd.read_csv('../data/station_data/station_info.csv')\n",
    "df = df.set_index('Unnamed: 0')\n",
    "df.index.names = [None]\n",
    "print(df)\n",
    "ID = np.array(df.loc['ID'])\n",
    "lat = np.array(df.loc['lat'])\n",
    "lon = np.array(df.loc['lon'])\n",
    "print(ID, lat, lon)"
   ]
  },
  {
   "cell_type": "code",
   "execution_count": 19,
   "id": "dc83ff47",
   "metadata": {},
   "outputs": [
    {
     "name": "stdout",
     "output_type": "stream",
     "text": [
      "            Date_time  Station_1  Station_2  Station_3\n",
      "0  2001-01-01 1:00:00          2        3.0          3\n",
      "1  2001-01-02 1:00:00          3        2.0          2\n",
      "2  2001-01-05 4:00:00          4        3.6          1\n",
      "3  2001-02-01 1:00:00          1    -9999.0          2\n",
      "4  2001-03-01 1:00:00          2        3.0          3\n"
     ]
    }
   ],
   "source": [
    "df = pd.read_csv('../data/station_data/station_data.csv')\n",
    "print(df)\n"
   ]
  },
  {
   "cell_type": "code",
   "execution_count": 2,
   "id": "ae00c666",
   "metadata": {},
   "outputs": [
    {
     "name": "stdout",
     "output_type": "stream",
     "text": [
      "<xarray.Dataset>\n",
      "Dimensions:      (time: 5, n: 3)\n",
      "Coordinates:\n",
      "  * time         (time) datetime64[ns] 2001-01-01T01:00:00 ... 2001-03-01T01:...\n",
      "Dimensions without coordinates: n\n",
      "Data variables:\n",
      "    ss           (time, n) float64 ...\n",
      "    column_name  (n) object ...\n",
      "    ID           (n) int32 ...\n",
      "    latitude     (n) float64 ...\n",
      "    longitude    (n) float64 ...\n",
      "    Station_ID   (n) object ...\n",
      "Attributes:\n",
      "    Conventions:  CF-1.6\n",
      "    Author:       The data were written by \n",
      "    License:      \n",
      "    History:      Created Sun Jan 30 22:21:49 2022\n",
      "    Source:       Case: case_temp; remapped by script from library of Shervan...\n"
     ]
    }
   ],
   "source": [
    "import xarray as xr\n",
    "ds = xr.open_dataset('../data/station_data/station_data.nc')\n",
    "print(ds)\n"
   ]
  },
  {
   "cell_type": "code",
   "execution_count": null,
   "id": "67aa3101",
   "metadata": {},
   "outputs": [],
   "source": []
  }
 ],
 "metadata": {
  "kernelspec": {
   "display_name": "myenv38",
   "language": "python",
   "name": "myenv38"
  },
  "language_info": {
   "codemirror_mode": {
    "name": "ipython",
    "version": 3
   },
   "file_extension": ".py",
   "mimetype": "text/x-python",
   "name": "python",
   "nbconvert_exporter": "python",
   "pygments_lexer": "ipython3",
   "version": "3.8.10"
  }
 },
 "nbformat": 4,
 "nbformat_minor": 5
}

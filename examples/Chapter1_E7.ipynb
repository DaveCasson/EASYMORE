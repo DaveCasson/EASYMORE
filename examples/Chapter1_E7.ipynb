{
 "cells": [
  {
   "cell_type": "code",
   "execution_count": 3,
   "id": "aa630284",
   "metadata": {},
   "outputs": [
    {
     "name": "stdout",
     "output_type": "stream",
     "text": [
      "EASYMORE version 0.0.5 is initiated.\n",
      "EASYMORE detects that the necessary information for the station are provided\n",
      "Row ID is numeric and int\n",
      "Row lat is numeric and float\n",
      "Row lon is numeric and int\n",
      "{'Flow': {'dtype': 'object', '_FillValue': -9999}}\n",
      "EASYMORE detects that the necessary information for the station are provided\n",
      "Row ID is numeric and int\n",
      "Row lat is numeric and float\n",
      "Row lon is numeric and int\n",
      "{'Flag': {'dtype': 'object'}}\n"
     ]
    },
    {
     "name": "stderr",
     "output_type": "stream",
     "text": [
      "rm: station_data.nc: No such file or directory\n",
      "rm: station_data_flag.nc: No such file or directory\n"
     ]
    }
   ],
   "source": [
    "# loading EASYMORE\n",
    "from easymore.easymore import easymore\n",
    "\n",
    "# initializing EASYMORE object\n",
    "esmr = easymore()\n",
    "\n",
    "# write data\n",
    "esmr.dataframe_to_netcdf_xr ('../data/station_data/station_data.csv',\\\n",
    "                             'station_data.nc',\\\n",
    "                             nc_file_path = '../output/',\n",
    "                             data_frame_DateTime_column = 'Date_time',\\\n",
    "                             station_info_data = '../data/station_data/station_info.csv',\n",
    "                             station_info_column = 'info',\\\n",
    "                             variable_name = 'Flow')\n",
    "\n",
    "# write flag\n",
    "esmr.dataframe_to_netcdf_xr ('../data/station_data/station_data_flag.csv',\\\n",
    "                             'station_data_flag.nc',\\\n",
    "                             nc_file_path = '../output/',\n",
    "                             data_frame_DateTime_column = 'Date_time',\\\n",
    "                             station_info_data = '../data/station_data/station_info.csv',\n",
    "                             station_info_column = 'info',\\\n",
    "                             variable_name = 'Flag')\n"
   ]
  },
  {
   "cell_type": "code",
   "execution_count": 2,
   "id": "31818585",
   "metadata": {},
   "outputs": [
    {
     "name": "stdout",
     "output_type": "stream",
     "text": [
      "<xarray.Dataset>\n",
      "Dimensions:  (n: 2, time: 5)\n",
      "Coordinates:\n",
      "  * n        (n) object '12AB001' '12BA002'\n",
      "  * time     (time) datetime64[ns] 2001-01-01T01:00:00 ... 2001-03-01T01:00:00\n",
      "Data variables:\n",
      "    Flow     (time, n) float64 ...\n",
      "    ID       (n) int64 3 100\n",
      "    lat      (n) float64 4.5 5.0\n",
      "    lon      (n) int64 -7 -5\n",
      "    name     (n) object 'station near city 1' 'station near forest 1'\n",
      "    Flag     (time, n) object ...\n",
      "<xarray.DataArray 'Flow' (time: 5, n: 2)>\n",
      "array([[22. , 22. ],\n",
      "       [ 2. ,  nan],\n",
      "       [ 3.6,  3.6],\n",
      "       [ nan,  nan],\n",
      "       [ 3. ,  3. ]])\n",
      "Coordinates:\n",
      "  * n        (n) object '12AB001' '12BA002'\n",
      "  * time     (time) datetime64[ns] 2001-01-01T01:00:00 ... 2001-03-01T01:00:00\n",
      "<xarray.DataArray 'Flag' (time: 5, n: 2)>\n",
      "array([['estimated', ''],\n",
      "       ['estimated', ''],\n",
      "       ['', 'estimated'],\n",
      "       ['', 'ice condition'],\n",
      "       ['', 'revised']], dtype=object)\n",
      "Coordinates:\n",
      "  * n        (n) object '12AB001' '12BA002'\n",
      "  * time     (time) datetime64[ns] 2001-01-01T01:00:00 ... 2001-03-01T01:00:00\n",
      "<xarray.DataArray 'name' (n: 2)>\n",
      "array(['station near city 1', 'station near forest 1'], dtype=object)\n",
      "Coordinates:\n",
      "  * n        (n) object '12AB001' '12BA002'\n"
     ]
    }
   ],
   "source": [
    "import xarray as xr\n",
    "\n",
    "ds1 = xr.open_dataset('../output/station_data.nc')\n",
    "ds2 = xr.open_dataset('../output/station_data_flag.nc')\n",
    "\n",
    "ds = data = xr.merge([ds1, ds2])\n",
    "print(ds)\n",
    "print(ds['Flow'])\n",
    "print(ds['Flag'])\n",
    "print(ds['name'])\n"
   ]
  },
  {
   "cell_type": "code",
   "execution_count": null,
   "id": "b737bb6d",
   "metadata": {},
   "outputs": [],
   "source": []
  }
 ],
 "metadata": {
  "kernelspec": {
   "display_name": "myenv38",
   "language": "python",
   "name": "myenv38"
  },
  "language_info": {
   "codemirror_mode": {
    "name": "ipython",
    "version": 3
   },
   "file_extension": ".py",
   "mimetype": "text/x-python",
   "name": "python",
   "nbconvert_exporter": "python",
   "pygments_lexer": "ipython3",
   "version": "3.8.10"
  }
 },
 "nbformat": 4,
 "nbformat_minor": 5
}

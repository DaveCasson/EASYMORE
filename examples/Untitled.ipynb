{
 "cells": [
  {
   "cell_type": "code",
   "execution_count": 2,
   "id": "final-aggregate",
   "metadata": {},
   "outputs": [
    {
     "name": "stdout",
     "output_type": "stream",
     "text": [
      "0.0.2\n",
      "no author name is provide and the author name is changed to (author name)!\n",
      "remap file is provided; EASYMORE will use this file and skip calculation of remapping\n",
      "EASYMORE will remap variable  airtemp  from source file to variable  temperature  in remapped NeCDF file\n",
      "EASYMORE case exists in the remap file\n",
      "EASYMORE detects that the varibales from the netCDF files are identicalin dimensions of the varibales and latitude and longitude\n",
      "EASYMORE detects that all the varibales have dimensions of:\n",
      "['time', 'latitude', 'longitude']\n",
      "EASYMORE detects that the longitude varibales has dimensions of:\n",
      "['longitude']\n",
      "EASYMORE detects that the latitude varibales has dimensions of:\n",
      "['latitude']\n",
      "------REMAPPING------\n",
      "netcdf output file will be compressed at level 4\n",
      "Removing existing remapped .nc file.\n",
      "Remapping ../data/Source_nc_ERA5/ERA5_subset_NorthAsia_19800101.nc to ../output/North_Asia_remapped_1980-01-01-00-00-00.nc\n",
      "Started at date and time 2021-08-06 21:32:52.630726\n",
      "Ended   at date and time 2021-08-06 21:32:52.848984\n",
      "------\n"
     ]
    }
   ],
   "source": [
    "# loading EASYMORE\n",
    "from easymore.easymore import easymore\n",
    "\n",
    "# initializing EASYMORE object\n",
    "esmr = easymore()\n",
    "\n",
    "# specifying EASYMORE objects\n",
    "# name of the case; the temporary, remapping and remapped file names include case name\n",
    "esmr.case_name                = 'North_Asia'              \n",
    "# temporary path that the EASYMORE generated GIS files and remapped file will be saved\n",
    "esmr.temp_dir                 = '../temporary/'\n",
    "# name of target shapefile that the source netcdf files should be remapped to\n",
    "esmr.target_shp               = '/Users/shg096/Desktop/MERIT_Hydro/cat_final/cat_pfaf_35_MERIT_Hydro_v07_Basins_v01_bugfix1_fixed.shp'\n",
    "esmr.target_shp               = '../data/Source_shp_ERA5/MERIT_NA_test.shp'\n",
    "# name of netCDF file(s); multiple files can be specified with *\n",
    "esmr.source_nc                = '../data/Source_nc_ERA5/ERA5_subset_NorthAsia_*.nc'\n",
    "# name of variables from source netCDF file(s) to be remapped\n",
    "esmr.var_names                = ['airtemp']\n",
    "# rename the variables from source netCDF file(s) in the remapped files;\n",
    "# it will be the same as source if not provided\n",
    "esmr.var_names_remapped       = ['temperature']\n",
    "# name of variable longitude in source netCDF files\n",
    "esmr.var_lon                  = 'longitude'\n",
    "# name of variable latitude in source netCDF files\n",
    "esmr.var_lat                  = 'latitude'\n",
    "# name of variable time in source netCDF file; should be always time\n",
    "esmr.var_time                 = 'time'\n",
    "# location where the remapped netCDF file will be saved\n",
    "esmr.output_dir               = '../output/'\n",
    "# format of the variables to be saved in remapped files,\n",
    "# if one format provided it will be expanded to other variables\n",
    "esmr.format_list              = ['f4']\n",
    "# fill values of the variables to be saved in remapped files,\n",
    "# if one value provided it will be expanded to other variables\n",
    "esmr.fill_value_list          = ['-9999.00']\n",
    "# if required that the remapped values to be saved as csv as well\n",
    "#esmr.save_csv                 = True\n",
    "# if uncommented EASYMORE will use this and skip GIS tasks\n",
    "#esmr.remap_csv                = '../temporary/North_Asia_remapping.csv'\n",
    "\n",
    "# execute EASYMORE\n",
    "esmr.nc_remapper()\n",
    "\n"
   ]
  },
  {
   "cell_type": "code",
   "execution_count": null,
   "id": "affiliated-original",
   "metadata": {},
   "outputs": [],
   "source": [
    "# visualize the result\n",
    "import geopandas as gpd\n",
    "import xarray as xr\n",
    "import glob\n",
    "import pandas as pd\n",
    "import numpy as np\n",
    "import matplotlib.pyplot as plt\n",
    "import matplotlib\n",
    "font = {'family' : 'Times New Roman',\n",
    "         'weight' : 'bold',\n",
    "         'size'   : 24}\n",
    "matplotlib.rc('font', **font)\n",
    "\n",
    "# visualize the original netCDF for the first file, first time step\n",
    "shp_target = gpd.read_file(esmr.target_shp) # load the target shapefile\n",
    "# load the first source netcdf file\n",
    "nc_name = sorted(glob.glob(esmr.source_nc))\n",
    "ds_source = xr.open_dataset(nc_name[0])\n",
    "# subset the region of interest:\n",
    "lat_lim = np.array([   60  ,   75.0 ]) # limit for lat\n",
    "lon_lim = np.array([  170  ,  190.5 ]) # limit for lon\n",
    "\n",
    "lat_lim = np.array([   64  ,   68.0 ]) # limit for lat\n",
    "lon_lim = np.array([  175  ,  185.0 ]) # limit for lon\n",
    "\n",
    "lats = np.array(ds_source.variables[esmr.var_lat][:] )\n",
    "lons = np.array(ds_source.variables[esmr.var_lon][:])\n",
    "lat_low = np.argmin( np.abs( lats - lat_lim[0] ) )\n",
    "lat_up = np.argmin( np.abs( lats - lat_lim[1] ) )\n",
    "lon_low = np.argmin( np.abs( lons - lon_lim[0] ) )\n",
    "lon_up = np.argmin( np.abs( lons - lon_lim[1] ) )\n",
    "if lat_up < lat_low:\n",
    "    temp = lat_low\n",
    "    lat_low = lat_up\n",
    "    lat_up = temp\n",
    "if lon_up < lon_low:\n",
    "    temp = lon_low\n",
    "    lon_low = lon_up\n",
    "    lon_up = temp\n",
    "ds_source = ds_source.isel(latitude=np.arange(lat_low,lat_up))\n",
    "ds_source = ds_source.isel(longitude=np.arange(lon_low,lon_up))\n",
    "# plotting\n",
    "f, axes = plt.subplots(1,1,figsize=(15,15))\n",
    "ds_source.airtemp[0,:,:].plot( ax = axes)\n",
    "shp_target.geometry.boundary.plot(color=None,edgecolor='k',linewidth = 1, ax = axes)\n",
    "plt.savefig('../fig/Example1_A.png')\n",
    "\n",
    "# visualize the remapped netCDF for the first file, first time step\n",
    "# target nc file\n",
    "nc_names = sorted(glob.glob (esmr.output_dir + esmr.case_name + '*.nc'))\n",
    "ds       = xr.open_dataset(nc_names[0]) # the first netcdf file\n",
    "values   = ds.temperature [0,:] # the first time frame of the first \n",
    "IDs      = ds.ID [:] # get the ID\n",
    "# create a data frame for the model simulation\n",
    "df = pd.DataFrame()\n",
    "df ['value'] = values\n",
    "df ['ID_t']    = IDs  # .astype(int)\n",
    "df = df.sort_values (by = 'ID_t')\n",
    "# load the shape file target that is generated by EASYMORE (with consistent IDs)\n",
    "shp_target = gpd.read_file(esmr.temp_dir+ esmr.case_name + '_target_shapefile.shp') # load the target shapefile\n",
    "shp_target ['ID_t'] = shp_target ['ID_t'].astype(float)\n",
    "shp_target = shp_target.sort_values(by='ID_t')# sort on values\n",
    "shp_target = pd.merge_asof(shp_target, df, on='ID_t', direction='nearest')\n",
    "shp_target = shp_target.set_geometry('geometry') #bring back the geometry filed; pd to gpd\n",
    "# plotting\n",
    "f, axes = plt.subplots(1,1,figsize=(15,15))\n",
    "ds_source.airtemp[0,:,:].plot( ax = axes)\n",
    "ds_source.airtemp[0,:,:].plot( ax = axes, alpha = 1, add_colorbar=False)\n",
    "shp_target.plot(column= 'value', edgecolor='k',linewidth = 1, ax = axes )#, legend=True)\n",
    "plt.savefig('../fig/Example1_B.png')\n",
    "\n"
   ]
  },
  {
   "cell_type": "code",
   "execution_count": 1,
   "id": "fuzzy-venezuela",
   "metadata": {},
   "outputs": [
    {
     "name": "stdout",
     "output_type": "stream",
     "text": [
      "<xarray.Dataset>\n",
      "Dimensions:    (latitude: 146, longitude: 528, time: 24)\n",
      "Coordinates:\n",
      "  * longitude  (longitude) float32 58.75 59.0 59.25 59.5 ... 190.0 190.2 190.5\n",
      "  * latitude   (latitude) float32 81.5 81.25 81.0 80.75 ... 45.75 45.5 45.25\n",
      "  * time       (time) datetime64[ns] 1980-01-01 ... 1980-01-01T23:00:00\n",
      "Data variables:\n",
      "    LWRadAtm   (time, latitude, longitude) float32 ...\n",
      "    SWRadAtm   (time, latitude, longitude) float32 ...\n",
      "    pptrate    (time, latitude, longitude) float32 ...\n",
      "    airpres    (time, latitude, longitude) float32 ...\n",
      "    airtemp    (time, latitude, longitude) float32 ...\n",
      "    spechum    (time, latitude, longitude) float32 ...\n",
      "    windspd    (time, latitude, longitude) float32 ...\n",
      "Attributes:\n",
      "    History:                                  Created Mon Jul 19 00:07:20 2021\n",
      "    Language:                                 Written using Python\n",
      "    Reason:                                   (1) ERA5 surface and pressure f...\n",
      "    Conventions (pressure level (10m) data):  CF-1.6\n",
      "    history (pressure level (10m) data):      2021-06-20 01:08:25 GMT by grib...\n",
      "    Conventions (surface level data):         CF-1.6\n",
      "    history (surface level data):             2021-06-20 01:08:25 GMT by grib...\n"
     ]
    }
   ],
   "source": [
    "# visualize the result\n",
    "import geopandas as gpd\n",
    "import xarray as xr\n",
    "import glob\n",
    "import pandas as pd\n",
    "import numpy as np\n",
    "import matplotlib.pyplot as plt\n",
    "import matplotlib\n",
    "font = {'family' : 'Times New Roman',\n",
    "         'weight' : 'bold',\n",
    "         'size'   : 24}\n",
    "matplotlib.rc('font', **font)\n",
    "\n",
    "ds = xr.open_dataset('/Users/shg096/Desktop/EASYMORE/data/Source_nc_ERA5/ERA5_subset_NorthAsia_19800101.nc')\n",
    "\n",
    "print(ds)\n"
   ]
  },
  {
   "cell_type": "code",
   "execution_count": 1,
   "id": "consecutive-african",
   "metadata": {},
   "outputs": [
    {
     "ename": "AttributeError",
     "evalue": "'easymore' object has no attribute 'version'",
     "output_type": "error",
     "traceback": [
      "\u001b[0;31m---------------------------------------------------------------------------\u001b[0m",
      "\u001b[0;31mAttributeError\u001b[0m                            Traceback (most recent call last)",
      "\u001b[0;32m<ipython-input-1-b4070c5ef390>\u001b[0m in \u001b[0;36m<module>\u001b[0;34m\u001b[0m\n\u001b[1;32m      5\u001b[0m \u001b[0mesmr\u001b[0m \u001b[0;34m=\u001b[0m \u001b[0measymore\u001b[0m\u001b[0;34m(\u001b[0m\u001b[0;34m)\u001b[0m\u001b[0;34m\u001b[0m\u001b[0;34m\u001b[0m\u001b[0m\n\u001b[1;32m      6\u001b[0m \u001b[0;34m\u001b[0m\u001b[0m\n\u001b[0;32m----> 7\u001b[0;31m \u001b[0mprint\u001b[0m\u001b[0;34m(\u001b[0m\u001b[0mesmr\u001b[0m\u001b[0;34m.\u001b[0m\u001b[0mversion\u001b[0m\u001b[0;34m)\u001b[0m\u001b[0;34m\u001b[0m\u001b[0;34m\u001b[0m\u001b[0m\n\u001b[0m",
      "\u001b[0;31mAttributeError\u001b[0m: 'easymore' object has no attribute 'version'"
     ]
    }
   ],
   "source": [
    "# loading EASYMORE\n",
    "from easymore.easymore import easymore\n",
    "\n",
    "# initializing EASYMORE object\n",
    "esmr = easymore()\n",
    "\n",
    "print(esmr.version)"
   ]
  },
  {
   "cell_type": "code",
   "execution_count": 2,
   "id": "therapeutic-demand",
   "metadata": {},
   "outputs": [
    {
     "ename": "AttributeError",
     "evalue": "'easymore' object has no attribute 'version'",
     "output_type": "error",
     "traceback": [
      "\u001b[0;31m---------------------------------------------------------------------------\u001b[0m",
      "\u001b[0;31mAttributeError\u001b[0m                            Traceback (most recent call last)",
      "\u001b[0;32m<ipython-input-2-fc2e39219cf7>\u001b[0m in \u001b[0;36m<module>\u001b[0;34m\u001b[0m\n\u001b[0;32m----> 1\u001b[0;31m \u001b[0mprint\u001b[0m\u001b[0;34m(\u001b[0m\u001b[0mesmr\u001b[0m\u001b[0;34m.\u001b[0m\u001b[0mversion\u001b[0m\u001b[0;34m)\u001b[0m\u001b[0;34m\u001b[0m\u001b[0;34m\u001b[0m\u001b[0m\n\u001b[0m",
      "\u001b[0;31mAttributeError\u001b[0m: 'easymore' object has no attribute 'version'"
     ]
    }
   ],
   "source": [
    "print(esmr.)"
   ]
  },
  {
   "cell_type": "code",
   "execution_count": 4,
   "id": "interested-increase",
   "metadata": {},
   "outputs": [],
   "source": [
    "# loading EASYMORE\n",
    "from easymore.easymore import easymore\n",
    "\n",
    "# initializing EASYMORE object\n",
    "esmr = easymore()\n"
   ]
  },
  {
   "cell_type": "code",
   "execution_count": 2,
   "id": "intermediate-chicken",
   "metadata": {},
   "outputs": [
    {
     "name": "stdout",
     "output_type": "stream",
     "text": [
      "          COMID   unitarea                                           geometry\n",
      "0      35000536  34.419508  POLYGON ((138.84375 76.20125, 138.84792 76.201...\n",
      "1      35000664  26.221470  MULTIPOLYGON (((138.76375 74.73125, 138.76458 ...\n",
      "2      35002304  35.567927  POLYGON ((132.34958 71.30125, 132.35042 71.301...\n",
      "3      35016177  62.642259  POLYGON ((172.35458 69.54375, 172.36042 69.543...\n",
      "4      35008317  47.340852  POLYGON ((138.15708 67.78292, 138.15792 67.782...\n",
      "...         ...        ...                                                ...\n",
      "62628  35016181  28.605773  POLYGON ((155.89958 67.60875, 155.90125 67.608...\n",
      "62629  35016180  57.011621  POLYGON ((156.13875 67.65042, 156.14542 67.650...\n",
      "62630  35016179   9.637901  POLYGON ((156.30458 67.63042, 156.30875 67.630...\n",
      "62631  35016178  37.980964  POLYGON ((156.22792 67.69542, 156.22875 67.695...\n",
      "62632  35007009  53.898509  POLYGON ((156.32708 67.71292, 156.32625 67.712...\n",
      "\n",
      "[62633 rows x 3 columns]\n"
     ]
    },
    {
     "name": "stderr",
     "output_type": "stream",
     "text": [
      "/Users/shg096/opt/anaconda3/envs/myenv38/lib/python3.8/site-packages/geopandas/_vectorized.py:150: DeprecationWarning: An exception was ignored while fetching the attribute `__array_interface__` from an object of type 'Polygon'.  With the exception of `AttributeError` NumPy will always raise this exception in the future.  Raise this deprecation warning to see the original exception. (Warning added NumPy 1.21)\n",
      "  out[:] = [_pygeos_to_shapely(geom) for geom in data]\n",
      "/Users/shg096/opt/anaconda3/envs/myenv38/lib/python3.8/site-packages/geopandas/_vectorized.py:150: DeprecationWarning: An exception was ignored while fetching the attribute `__array_interface__` from an object of type 'MultiPolygon'.  With the exception of `AttributeError` NumPy will always raise this exception in the future.  Raise this deprecation warning to see the original exception. (Warning added NumPy 1.21)\n",
      "  out[:] = [_pygeos_to_shapely(geom) for geom in data]\n"
     ]
    }
   ],
   "source": [
    "import geopandas as gpd\n",
    "\n",
    "shp = gpd.read_file('/Users/shg096/Desktop/MERIT_Hydro/cat_final/cat_pfaf_35_MERIT_Hydro_v07_Basins_v01_bugfix1_fixed.shp')\n",
    "\n",
    "print(shp)\n",
    "\n",
    "\n"
   ]
  },
  {
   "cell_type": "code",
   "execution_count": 3,
   "id": "c672fbe8",
   "metadata": {},
   "outputs": [
    {
     "name": "stderr",
     "output_type": "stream",
     "text": [
      "/var/folders/yh/b1qy7zb96k980mcb2ps9n6d9t1c6zr/T/ipykernel_11160/2573951026.py:1: UserWarning: Geometry is in a geographic CRS. Results from 'centroid' are likely incorrect. Use 'GeoSeries.to_crs()' to re-project geometries to a projected CRS before this operation.\n",
      "\n",
      "  shp ['lat'] = shp.centroid.y\n",
      "/var/folders/yh/b1qy7zb96k980mcb2ps9n6d9t1c6zr/T/ipykernel_11160/2573951026.py:2: UserWarning: Geometry is in a geographic CRS. Results from 'centroid' are likely incorrect. Use 'GeoSeries.to_crs()' to re-project geometries to a projected CRS before this operation.\n",
      "\n",
      "  shp ['lon'] = shp.centroid.x\n"
     ]
    }
   ],
   "source": [
    "\n",
    "shp ['lat'] = shp.centroid.y\n",
    "shp ['lon'] = shp.centroid.x\n"
   ]
  },
  {
   "cell_type": "code",
   "execution_count": 4,
   "id": "fd0fd6b0",
   "metadata": {},
   "outputs": [
    {
     "name": "stdout",
     "output_type": "stream",
     "text": [
      "          COMID   unitarea                                           geometry  \\\n",
      "0      35000536  34.419508  POLYGON ((138.84375 76.20125, 138.84792 76.201...   \n",
      "1      35000664  26.221470  MULTIPOLYGON (((138.76375 74.73125, 138.76458 ...   \n",
      "2      35002304  35.567927  POLYGON ((132.34958 71.30125, 132.35042 71.301...   \n",
      "3      35016177  62.642259  POLYGON ((172.35458 69.54375, 172.36042 69.543...   \n",
      "4      35008317  47.340852  POLYGON ((138.15708 67.78292, 138.15792 67.782...   \n",
      "...         ...        ...                                                ...   \n",
      "62628  35016181  28.605773  POLYGON ((155.89958 67.60875, 155.90125 67.608...   \n",
      "62629  35016180  57.011621  POLYGON ((156.13875 67.65042, 156.14542 67.650...   \n",
      "62630  35016179   9.637901  POLYGON ((156.30458 67.63042, 156.30875 67.630...   \n",
      "62631  35016178  37.980964  POLYGON ((156.22792 67.69542, 156.22875 67.695...   \n",
      "62632  35007009  53.898509  POLYGON ((156.32708 67.71292, 156.32625 67.712...   \n",
      "\n",
      "             lat         lon  \n",
      "0      76.167539  138.727701  \n",
      "1      74.771065  138.809775  \n",
      "2      71.256257  132.284356  \n",
      "3      69.490014  172.433973  \n",
      "4      67.735144  138.168048  \n",
      "...          ...         ...  \n",
      "62628  67.581881  155.911924  \n",
      "62629  67.610160  156.133620  \n",
      "62630  67.607886  156.316129  \n",
      "62631  67.651455  156.241070  \n",
      "62632  67.729988  156.281642  \n",
      "\n",
      "[62633 rows x 5 columns]\n"
     ]
    },
    {
     "name": "stderr",
     "output_type": "stream",
     "text": [
      "/Users/shg096/opt/anaconda3/envs/myenv38/lib/python3.8/site-packages/geopandas/_vectorized.py:150: DeprecationWarning: An exception was ignored while fetching the attribute `__array_interface__` from an object of type 'Polygon'.  With the exception of `AttributeError` NumPy will always raise this exception in the future.  Raise this deprecation warning to see the original exception. (Warning added NumPy 1.21)\n",
      "  out[:] = [_pygeos_to_shapely(geom) for geom in data]\n",
      "/Users/shg096/opt/anaconda3/envs/myenv38/lib/python3.8/site-packages/geopandas/_vectorized.py:150: DeprecationWarning: An exception was ignored while fetching the attribute `__array_interface__` from an object of type 'MultiPolygon'.  With the exception of `AttributeError` NumPy will always raise this exception in the future.  Raise this deprecation warning to see the original exception. (Warning added NumPy 1.21)\n",
      "  out[:] = [_pygeos_to_shapely(geom) for geom in data]\n"
     ]
    }
   ],
   "source": [
    "print(shp)\n",
    "\n"
   ]
  },
  {
   "cell_type": "code",
   "execution_count": 6,
   "id": "e8d652ce",
   "metadata": {},
   "outputs": [
    {
     "name": "stdout",
     "output_type": "stream",
     "text": [
      "          COMID     unitarea  \\\n",
      "30     35008315    95.341239   \n",
      "56     35002467    33.625564   \n",
      "57     35017564    92.107405   \n",
      "95     35000861  8519.201312   \n",
      "97     35008288    54.730594   \n",
      "...         ...          ...   \n",
      "62305  35007176    16.719596   \n",
      "62517  35016293    31.169460   \n",
      "62518  35016292     1.336541   \n",
      "62519  35016291     0.122750   \n",
      "62520  35016290    39.953138   \n",
      "\n",
      "                                                geometry        lat  \\\n",
      "30     MULTIPOLYGON (((179.272 67.840, 179.273 67.840...  67.769618   \n",
      "56     POLYGON ((175.799 69.551, 175.801 69.551, 175....  69.486300   \n",
      "57     MULTIPOLYGON (((179.161 66.011, 179.162 66.011...  66.010714   \n",
      "95     POLYGON ((180.108 71.322, 180.109 71.322, 180....  71.253091   \n",
      "97     POLYGON ((183.565 67.792, 183.567 67.792, 183....  67.752638   \n",
      "...                                                  ...        ...   \n",
      "62305  MULTIPOLYGON (((181.688 67.743, 181.689 67.743...  67.733433   \n",
      "62517  POLYGON ((181.763 66.070, 181.767 66.070, 181....  66.039921   \n",
      "62518  POLYGON ((181.585 66.066, 181.586 66.066, 181....  66.058036   \n",
      "62519  POLYGON ((181.578 66.067, 181.581 66.067, 181....  66.064238   \n",
      "62520  MULTIPOLYGON (((181.392 66.041, 181.391 66.041...  66.064292   \n",
      "\n",
      "              lon  \n",
      "30     179.229418  \n",
      "56     175.759472  \n",
      "57     179.357594  \n",
      "95     180.074079  \n",
      "97     183.584079  \n",
      "...           ...  \n",
      "62305  181.737281  \n",
      "62517  181.716435  \n",
      "62518  181.594818  \n",
      "62519  181.580286  \n",
      "62520  181.487449  \n",
      "\n",
      "[5244 rows x 5 columns]\n"
     ]
    },
    {
     "name": "stderr",
     "output_type": "stream",
     "text": [
      "/Users/shg096/opt/anaconda3/envs/myenv38/lib/python3.8/site-packages/geopandas/_vectorized.py:150: DeprecationWarning: An exception was ignored while fetching the attribute `__array_interface__` from an object of type 'MultiPolygon'.  With the exception of `AttributeError` NumPy will always raise this exception in the future.  Raise this deprecation warning to see the original exception. (Warning added NumPy 1.21)\n",
      "  out[:] = [_pygeos_to_shapely(geom) for geom in data]\n",
      "/Users/shg096/opt/anaconda3/envs/myenv38/lib/python3.8/site-packages/geopandas/_vectorized.py:150: DeprecationWarning: An exception was ignored while fetching the attribute `__array_interface__` from an object of type 'Polygon'.  With the exception of `AttributeError` NumPy will always raise this exception in the future.  Raise this deprecation warning to see the original exception. (Warning added NumPy 1.21)\n",
      "  out[:] = [_pygeos_to_shapely(geom) for geom in data]\n"
     ]
    }
   ],
   "source": [
    "shp_slice = shp [shp['lon']>175]\n",
    "shp_slice = shp_slice [shp_slice['lon']<185]\n",
    "print(shp_slice)\n"
   ]
  },
  {
   "cell_type": "code",
   "execution_count": 7,
   "id": "845714bb",
   "metadata": {},
   "outputs": [
    {
     "name": "stderr",
     "output_type": "stream",
     "text": [
      "/Users/shg096/opt/anaconda3/envs/myenv38/lib/python3.8/site-packages/geopandas/_vectorized.py:150: DeprecationWarning: An exception was ignored while fetching the attribute `__array_interface__` from an object of type 'MultiPolygon'.  With the exception of `AttributeError` NumPy will always raise this exception in the future.  Raise this deprecation warning to see the original exception. (Warning added NumPy 1.21)\n",
      "  out[:] = [_pygeos_to_shapely(geom) for geom in data]\n",
      "/Users/shg096/opt/anaconda3/envs/myenv38/lib/python3.8/site-packages/geopandas/_vectorized.py:150: DeprecationWarning: An exception was ignored while fetching the attribute `__array_interface__` from an object of type 'Polygon'.  With the exception of `AttributeError` NumPy will always raise this exception in the future.  Raise this deprecation warning to see the original exception. (Warning added NumPy 1.21)\n",
      "  out[:] = [_pygeos_to_shapely(geom) for geom in data]\n"
     ]
    }
   ],
   "source": [
    "shp_slice.to_file('../data/Source_shp_ERA5/MERIT_NA_test.shp')"
   ]
  },
  {
   "cell_type": "code",
   "execution_count": null,
   "id": "f654b5b9",
   "metadata": {},
   "outputs": [],
   "source": []
  }
 ],
 "metadata": {
  "kernelspec": {
   "display_name": "myenv",
   "language": "python",
   "name": "myenv"
  },
  "language_info": {
   "codemirror_mode": {
    "name": "ipython",
    "version": 3
   },
   "file_extension": ".py",
   "mimetype": "text/x-python",
   "name": "python",
   "nbconvert_exporter": "python",
   "pygments_lexer": "ipython3",
   "version": "3.8.10"
  }
 },
 "nbformat": 4,
 "nbformat_minor": 5
}

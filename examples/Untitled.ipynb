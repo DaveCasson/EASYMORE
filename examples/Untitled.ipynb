{
 "cells": [
  {
   "cell_type": "code",
   "execution_count": 2,
   "id": "06c5008f",
   "metadata": {},
   "outputs": [
    {
     "name": "stdout",
     "output_type": "stream",
     "text": [
      "EASYMORE version 0.0.2 is initiated.\n"
     ]
    },
    {
     "ename": "AttributeError",
     "evalue": "'easymore' object has no attribute 'd'",
     "output_type": "error",
     "traceback": [
      "\u001b[0;31m---------------------------------------------------------------------------\u001b[0m",
      "\u001b[0;31mAttributeError\u001b[0m                            Traceback (most recent call last)",
      "\u001b[0;32m/var/folders/yh/b1qy7zb96k980mcb2ps9n6d9t1c6zr/T/ipykernel_28564/729676296.py\u001b[0m in \u001b[0;36m<module>\u001b[0;34m\u001b[0m\n\u001b[1;32m      7\u001b[0m \u001b[0;34m\u001b[0m\u001b[0m\n\u001b[1;32m      8\u001b[0m \u001b[0;31m# execute EASYMORE\u001b[0m\u001b[0;34m\u001b[0m\u001b[0;34m\u001b[0m\u001b[0;34m\u001b[0m\u001b[0m\n\u001b[0;32m----> 9\u001b[0;31m \u001b[0mesmr\u001b[0m\u001b[0;34m.\u001b[0m\u001b[0md\u001b[0m\u001b[0;34m(\u001b[0m\u001b[0;34m)\u001b[0m\u001b[0;34m\u001b[0m\u001b[0;34m\u001b[0m\u001b[0m\n\u001b[0m\u001b[1;32m     10\u001b[0m \u001b[0;34m\u001b[0m\u001b[0m\n",
      "\u001b[0;31mAttributeError\u001b[0m: 'easymore' object has no attribute 'd'"
     ]
    }
   ],
   "source": [
    "# loading EASYMORE\n",
    "from easymore.easymore import easymore\n",
    "\n",
    "# initializing EASYMORE object\n",
    "esmr = easymore()\n",
    "\n",
    "\n",
    "\n",
    "# execute EASYMORE\n",
    "esmr.dataframe_to_netcdf()\n",
    "\n"
   ]
  },
  {
   "cell_type": "code",
   "execution_count": 13,
   "id": "6799cef9",
   "metadata": {},
   "outputs": [
    {
     "name": "stdout",
     "output_type": "stream",
     "text": [
      "     Station_1  Station_2  Station_3\n",
      "ID           1          3        100\n",
      "lat          3          4          5\n",
      "lon         -2         -7         -5\n",
      "[  1   3 100] [3 4 5] [-2 -7 -5]\n"
     ]
    }
   ],
   "source": [
    "import pandas as pd\n",
    "import numpy as np\n",
    "\n",
    "df = pd.read_csv('../data/station_data/station_info.csv')\n",
    "df = df.set_index('Unnamed: 0')\n",
    "df.index.names = [None]\n",
    "print(df)\n",
    "ID = np.array(df.loc['ID'])\n",
    "lat = np.array(df.loc['lat'])\n",
    "lon = np.array(df.loc['lon'])\n",
    "print(ID, lat, lon)"
   ]
  },
  {
   "cell_type": "code",
   "execution_count": 18,
   "id": "7cc2dc66",
   "metadata": {},
   "outputs": [
    {
     "data": {
      "text/plain": [
       "['Station_1', 'Station_2', 'Station_3']"
      ]
     },
     "execution_count": 18,
     "metadata": {},
     "output_type": "execute_result"
    }
   ],
   "source": [
    "list (df.columns)"
   ]
  },
  {
   "cell_type": "code",
   "execution_count": null,
   "id": "7fed5f75",
   "metadata": {},
   "outputs": [],
   "source": []
  }
 ],
 "metadata": {
  "kernelspec": {
   "display_name": "myenv38",
   "language": "python",
   "name": "myenv38"
  },
  "language_info": {
   "codemirror_mode": {
    "name": "ipython",
    "version": 3
   },
   "file_extension": ".py",
   "mimetype": "text/x-python",
   "name": "python",
   "nbconvert_exporter": "python",
   "pygments_lexer": "ipython3",
   "version": "3.8.10"
  }
 },
 "nbformat": 4,
 "nbformat_minor": 5
}

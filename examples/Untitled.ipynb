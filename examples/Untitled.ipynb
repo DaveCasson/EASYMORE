{
 "cells": [
  {
   "cell_type": "code",
   "execution_count": 1,
   "id": "final-aggregate",
   "metadata": {},
   "outputs": [
    {
     "name": "stdout",
     "output_type": "stream",
     "text": [
      "no author name is provide and the author name is changed to (author name)!\n",
      "EASYMORE will remap variable  airtemp  from source file to variable  temperature  in remapped NeCDF file\n",
      "EASYMORE detects that target shapefile is in WGS84 (epsg:4326)\n",
      "EASYMORE detects that no field for ID is provided in sink/target shapefile\n",
      "arbitarary values of ID are added in the field ID_t\n",
      "EASYMORE detects that either of the fields for latitude or longitude is not provided in sink/target shapefile\n",
      "calculating centroid of shapes in equal area projection\n"
     ]
    },
    {
     "ename": "KeyboardInterrupt",
     "evalue": "",
     "output_type": "error",
     "traceback": [
      "\u001b[0;31m---------------------------------------------------------------------------\u001b[0m",
      "\u001b[0;31mKeyboardInterrupt\u001b[0m                         Traceback (most recent call last)",
      "\u001b[0;32m<ipython-input-1-3098fba349c8>\u001b[0m in \u001b[0;36m<module>\u001b[0;34m\u001b[0m\n\u001b[1;32m     39\u001b[0m \u001b[0;34m\u001b[0m\u001b[0m\n\u001b[1;32m     40\u001b[0m \u001b[0;31m# execute EASYMORE\u001b[0m\u001b[0;34m\u001b[0m\u001b[0;34m\u001b[0m\u001b[0;34m\u001b[0m\u001b[0m\n\u001b[0;32m---> 41\u001b[0;31m \u001b[0mesmr\u001b[0m\u001b[0;34m.\u001b[0m\u001b[0mnc_remapper\u001b[0m\u001b[0;34m(\u001b[0m\u001b[0;34m)\u001b[0m\u001b[0;34m\u001b[0m\u001b[0;34m\u001b[0m\u001b[0m\n\u001b[0m\u001b[1;32m     42\u001b[0m \u001b[0;34m\u001b[0m\u001b[0m\n",
      "\u001b[0;32m~/opt/anaconda3/envs/myenv38/lib/python3.8/site-packages/easymore/easymore.py\u001b[0m in \u001b[0;36mnc_remapper\u001b[0;34m(self)\u001b[0m\n\u001b[1;32m     68\u001b[0m             \u001b[0;31m# check the target shapefile\u001b[0m\u001b[0;34m\u001b[0m\u001b[0;34m\u001b[0m\u001b[0;34m\u001b[0m\u001b[0m\n\u001b[1;32m     69\u001b[0m             \u001b[0mtarget_shp_gpd\u001b[0m \u001b[0;34m=\u001b[0m \u001b[0mgpd\u001b[0m\u001b[0;34m.\u001b[0m\u001b[0mread_file\u001b[0m\u001b[0;34m(\u001b[0m\u001b[0mself\u001b[0m\u001b[0;34m.\u001b[0m\u001b[0mtarget_shp\u001b[0m\u001b[0;34m)\u001b[0m\u001b[0;34m\u001b[0m\u001b[0;34m\u001b[0m\u001b[0m\n\u001b[0;32m---> 70\u001b[0;31m             \u001b[0mtarget_shp_gpd\u001b[0m \u001b[0;34m=\u001b[0m \u001b[0mself\u001b[0m\u001b[0;34m.\u001b[0m\u001b[0mcheck_target_shp\u001b[0m\u001b[0;34m(\u001b[0m\u001b[0mtarget_shp_gpd\u001b[0m\u001b[0;34m)\u001b[0m\u001b[0;34m\u001b[0m\u001b[0;34m\u001b[0m\u001b[0m\n\u001b[0m\u001b[1;32m     71\u001b[0m             \u001b[0;31m# save the standard target shapefile\u001b[0m\u001b[0;34m\u001b[0m\u001b[0;34m\u001b[0m\u001b[0;34m\u001b[0m\u001b[0m\n\u001b[1;32m     72\u001b[0m             \u001b[0mprint\u001b[0m\u001b[0;34m(\u001b[0m\u001b[0;34m'EASYMORE will save standard shapefile for EASYMORE claculation as:'\u001b[0m\u001b[0;34m)\u001b[0m\u001b[0;34m\u001b[0m\u001b[0;34m\u001b[0m\u001b[0m\n",
      "\u001b[0;32m~/opt/anaconda3/envs/myenv38/lib/python3.8/site-packages/easymore/easymore.py\u001b[0m in \u001b[0;36mcheck_target_shp\u001b[0;34m(self, shp)\u001b[0m\n\u001b[1;32m    287\u001b[0m             \u001b[0mprint\u001b[0m\u001b[0;34m(\u001b[0m\u001b[0;34m'EASYMORE detects that either of the fields for latitude or longitude is not provided in sink/target shapefile'\u001b[0m\u001b[0;34m)\u001b[0m\u001b[0;34m\u001b[0m\u001b[0;34m\u001b[0m\u001b[0m\n\u001b[1;32m    288\u001b[0m             \u001b[0mprint\u001b[0m\u001b[0;34m(\u001b[0m\u001b[0;34m'calculating centroid of shapes in equal area projection'\u001b[0m\u001b[0;34m)\u001b[0m\u001b[0;34m\u001b[0m\u001b[0;34m\u001b[0m\u001b[0m\n\u001b[0;32m--> 289\u001b[0;31m             \u001b[0mshp_temp\u001b[0m \u001b[0;34m=\u001b[0m \u001b[0mshp\u001b[0m\u001b[0;34m.\u001b[0m\u001b[0mto_crs\u001b[0m \u001b[0;34m(\u001b[0m\u001b[0;34m\"EPSG:6933\"\u001b[0m\u001b[0;34m)\u001b[0m \u001b[0;31m# source shapefile to equal area\u001b[0m\u001b[0;34m\u001b[0m\u001b[0;34m\u001b[0m\u001b[0m\n\u001b[0m\u001b[1;32m    290\u001b[0m             \u001b[0mlat_c\u001b[0m \u001b[0;34m=\u001b[0m \u001b[0mnp\u001b[0m\u001b[0;34m.\u001b[0m\u001b[0marray\u001b[0m\u001b[0;34m(\u001b[0m\u001b[0mshp_temp\u001b[0m\u001b[0;34m.\u001b[0m\u001b[0mcentroid\u001b[0m\u001b[0;34m.\u001b[0m\u001b[0my\u001b[0m\u001b[0;34m)\u001b[0m \u001b[0;31m# centroid lat from target\u001b[0m\u001b[0;34m\u001b[0m\u001b[0;34m\u001b[0m\u001b[0m\n\u001b[1;32m    291\u001b[0m             \u001b[0mlon_c\u001b[0m \u001b[0;34m=\u001b[0m \u001b[0mnp\u001b[0m\u001b[0;34m.\u001b[0m\u001b[0marray\u001b[0m\u001b[0;34m(\u001b[0m\u001b[0mshp_temp\u001b[0m\u001b[0;34m.\u001b[0m\u001b[0mcentroid\u001b[0m\u001b[0;34m.\u001b[0m\u001b[0mx\u001b[0m\u001b[0;34m)\u001b[0m \u001b[0;31m# centroid lon from target\u001b[0m\u001b[0;34m\u001b[0m\u001b[0;34m\u001b[0m\u001b[0m\n",
      "\u001b[0;32m~/opt/anaconda3/envs/myenv38/lib/python3.8/site-packages/geopandas/geodataframe.py\u001b[0m in \u001b[0;36mto_crs\u001b[0;34m(self, crs, epsg, inplace)\u001b[0m\n\u001b[1;32m   1245\u001b[0m         \u001b[0;32melse\u001b[0m\u001b[0;34m:\u001b[0m\u001b[0;34m\u001b[0m\u001b[0;34m\u001b[0m\u001b[0m\n\u001b[1;32m   1246\u001b[0m             \u001b[0mdf\u001b[0m \u001b[0;34m=\u001b[0m \u001b[0mself\u001b[0m\u001b[0;34m.\u001b[0m\u001b[0mcopy\u001b[0m\u001b[0;34m(\u001b[0m\u001b[0;34m)\u001b[0m\u001b[0;34m\u001b[0m\u001b[0;34m\u001b[0m\u001b[0m\n\u001b[0;32m-> 1247\u001b[0;31m         \u001b[0mgeom\u001b[0m \u001b[0;34m=\u001b[0m \u001b[0mdf\u001b[0m\u001b[0;34m.\u001b[0m\u001b[0mgeometry\u001b[0m\u001b[0;34m.\u001b[0m\u001b[0mto_crs\u001b[0m\u001b[0;34m(\u001b[0m\u001b[0mcrs\u001b[0m\u001b[0;34m=\u001b[0m\u001b[0mcrs\u001b[0m\u001b[0;34m,\u001b[0m \u001b[0mepsg\u001b[0m\u001b[0;34m=\u001b[0m\u001b[0mepsg\u001b[0m\u001b[0;34m)\u001b[0m\u001b[0;34m\u001b[0m\u001b[0;34m\u001b[0m\u001b[0m\n\u001b[0m\u001b[1;32m   1248\u001b[0m         \u001b[0mdf\u001b[0m\u001b[0;34m.\u001b[0m\u001b[0mgeometry\u001b[0m \u001b[0;34m=\u001b[0m \u001b[0mgeom\u001b[0m\u001b[0;34m\u001b[0m\u001b[0;34m\u001b[0m\u001b[0m\n\u001b[1;32m   1249\u001b[0m         \u001b[0mdf\u001b[0m\u001b[0;34m.\u001b[0m\u001b[0mcrs\u001b[0m \u001b[0;34m=\u001b[0m \u001b[0mgeom\u001b[0m\u001b[0;34m.\u001b[0m\u001b[0mcrs\u001b[0m\u001b[0;34m\u001b[0m\u001b[0;34m\u001b[0m\u001b[0m\n",
      "\u001b[0;32m~/opt/anaconda3/envs/myenv38/lib/python3.8/site-packages/geopandas/geoseries.py\u001b[0m in \u001b[0;36mto_crs\u001b[0;34m(self, crs, epsg)\u001b[0m\n\u001b[1;32m   1026\u001b[0m         \"\"\"\n\u001b[1;32m   1027\u001b[0m         return GeoSeries(\n\u001b[0;32m-> 1028\u001b[0;31m             \u001b[0mself\u001b[0m\u001b[0;34m.\u001b[0m\u001b[0mvalues\u001b[0m\u001b[0;34m.\u001b[0m\u001b[0mto_crs\u001b[0m\u001b[0;34m(\u001b[0m\u001b[0mcrs\u001b[0m\u001b[0;34m=\u001b[0m\u001b[0mcrs\u001b[0m\u001b[0;34m,\u001b[0m \u001b[0mepsg\u001b[0m\u001b[0;34m=\u001b[0m\u001b[0mepsg\u001b[0m\u001b[0;34m)\u001b[0m\u001b[0;34m,\u001b[0m \u001b[0mindex\u001b[0m\u001b[0;34m=\u001b[0m\u001b[0mself\u001b[0m\u001b[0;34m.\u001b[0m\u001b[0mindex\u001b[0m\u001b[0;34m,\u001b[0m \u001b[0mname\u001b[0m\u001b[0;34m=\u001b[0m\u001b[0mself\u001b[0m\u001b[0;34m.\u001b[0m\u001b[0mname\u001b[0m\u001b[0;34m\u001b[0m\u001b[0;34m\u001b[0m\u001b[0m\n\u001b[0m\u001b[1;32m   1029\u001b[0m         )\n\u001b[1;32m   1030\u001b[0m \u001b[0;34m\u001b[0m\u001b[0m\n",
      "\u001b[0;32m~/opt/anaconda3/envs/myenv38/lib/python3.8/site-packages/geopandas/array.py\u001b[0m in \u001b[0;36mto_crs\u001b[0;34m(self, crs, epsg)\u001b[0m\n\u001b[1;32m    795\u001b[0m         \u001b[0mtransformer\u001b[0m \u001b[0;34m=\u001b[0m \u001b[0mTransformer\u001b[0m\u001b[0;34m.\u001b[0m\u001b[0mfrom_crs\u001b[0m\u001b[0;34m(\u001b[0m\u001b[0mself\u001b[0m\u001b[0;34m.\u001b[0m\u001b[0mcrs\u001b[0m\u001b[0;34m,\u001b[0m \u001b[0mcrs\u001b[0m\u001b[0;34m,\u001b[0m \u001b[0malways_xy\u001b[0m\u001b[0;34m=\u001b[0m\u001b[0;32mTrue\u001b[0m\u001b[0;34m)\u001b[0m\u001b[0;34m\u001b[0m\u001b[0;34m\u001b[0m\u001b[0m\n\u001b[1;32m    796\u001b[0m \u001b[0;34m\u001b[0m\u001b[0m\n\u001b[0;32m--> 797\u001b[0;31m         \u001b[0mnew_data\u001b[0m \u001b[0;34m=\u001b[0m \u001b[0mvectorized\u001b[0m\u001b[0;34m.\u001b[0m\u001b[0mtransform\u001b[0m\u001b[0;34m(\u001b[0m\u001b[0mself\u001b[0m\u001b[0;34m.\u001b[0m\u001b[0mdata\u001b[0m\u001b[0;34m,\u001b[0m \u001b[0mtransformer\u001b[0m\u001b[0;34m.\u001b[0m\u001b[0mtransform\u001b[0m\u001b[0;34m)\u001b[0m\u001b[0;34m\u001b[0m\u001b[0;34m\u001b[0m\u001b[0m\n\u001b[0m\u001b[1;32m    798\u001b[0m         \u001b[0;32mreturn\u001b[0m \u001b[0mGeometryArray\u001b[0m\u001b[0;34m(\u001b[0m\u001b[0mnew_data\u001b[0m\u001b[0;34m,\u001b[0m \u001b[0mcrs\u001b[0m\u001b[0;34m=\u001b[0m\u001b[0mcrs\u001b[0m\u001b[0;34m)\u001b[0m\u001b[0;34m\u001b[0m\u001b[0;34m\u001b[0m\u001b[0m\n\u001b[1;32m    799\u001b[0m \u001b[0;34m\u001b[0m\u001b[0m\n",
      "\u001b[0;32m~/opt/anaconda3/envs/myenv38/lib/python3.8/site-packages/geopandas/_vectorized.py\u001b[0m in \u001b[0;36mtransform\u001b[0;34m(data, func)\u001b[0m\n\u001b[1;32m    945\u001b[0m                 \u001b[0mresult\u001b[0m\u001b[0;34m[\u001b[0m\u001b[0mi\u001b[0m\u001b[0;34m]\u001b[0m \u001b[0;34m=\u001b[0m \u001b[0mgeom\u001b[0m\u001b[0;34m\u001b[0m\u001b[0;34m\u001b[0m\u001b[0m\n\u001b[1;32m    946\u001b[0m             \u001b[0;32melse\u001b[0m\u001b[0;34m:\u001b[0m\u001b[0;34m\u001b[0m\u001b[0;34m\u001b[0m\u001b[0m\n\u001b[0;32m--> 947\u001b[0;31m                 \u001b[0mresult\u001b[0m\u001b[0;34m[\u001b[0m\u001b[0mi\u001b[0m\u001b[0;34m]\u001b[0m \u001b[0;34m=\u001b[0m \u001b[0mtransform\u001b[0m\u001b[0;34m(\u001b[0m\u001b[0mfunc\u001b[0m\u001b[0;34m,\u001b[0m \u001b[0mgeom\u001b[0m\u001b[0;34m)\u001b[0m\u001b[0;34m\u001b[0m\u001b[0;34m\u001b[0m\u001b[0m\n\u001b[0m\u001b[1;32m    948\u001b[0m \u001b[0;34m\u001b[0m\u001b[0m\n\u001b[1;32m    949\u001b[0m         \u001b[0;32mreturn\u001b[0m \u001b[0mresult\u001b[0m\u001b[0;34m\u001b[0m\u001b[0;34m\u001b[0m\u001b[0m\n",
      "\u001b[0;32m~/opt/anaconda3/envs/myenv38/lib/python3.8/site-packages/shapely/ops.py\u001b[0m in \u001b[0;36mtransform\u001b[0;34m(func, geom)\u001b[0m\n\u001b[1;32m    237\u001b[0m                 \u001b[0;32mreturn\u001b[0m \u001b[0mtype\u001b[0m\u001b[0;34m(\u001b[0m\u001b[0mgeom\u001b[0m\u001b[0;34m)\u001b[0m\u001b[0;34m(\u001b[0m\u001b[0mzip\u001b[0m\u001b[0;34m(\u001b[0m\u001b[0;34m*\u001b[0m\u001b[0mfunc\u001b[0m\u001b[0;34m(\u001b[0m\u001b[0;34m*\u001b[0m\u001b[0mizip\u001b[0m\u001b[0;34m(\u001b[0m\u001b[0;34m*\u001b[0m\u001b[0mgeom\u001b[0m\u001b[0;34m.\u001b[0m\u001b[0mcoords\u001b[0m\u001b[0;34m)\u001b[0m\u001b[0;34m)\u001b[0m\u001b[0;34m)\u001b[0m\u001b[0;34m)\u001b[0m\u001b[0;34m\u001b[0m\u001b[0;34m\u001b[0m\u001b[0m\n\u001b[1;32m    238\u001b[0m             \u001b[0;32melif\u001b[0m \u001b[0mgeom\u001b[0m\u001b[0;34m.\u001b[0m\u001b[0mtype\u001b[0m \u001b[0;34m==\u001b[0m \u001b[0;34m'Polygon'\u001b[0m\u001b[0;34m:\u001b[0m\u001b[0;34m\u001b[0m\u001b[0;34m\u001b[0m\u001b[0m\n\u001b[0;32m--> 239\u001b[0;31m                 shell = type(geom.exterior)(\n\u001b[0m\u001b[1;32m    240\u001b[0m                     zip(*func(*izip(*geom.exterior.coords))))\n\u001b[1;32m    241\u001b[0m                 holes = list(type(ring)(zip(*func(*izip(*ring.coords))))\n",
      "\u001b[0;32m~/opt/anaconda3/envs/myenv38/lib/python3.8/site-packages/shapely/geometry/polygon.py\u001b[0m in \u001b[0;36m__init__\u001b[0;34m(self, coordinates)\u001b[0m\n\u001b[1;32m     53\u001b[0m         \u001b[0mBaseGeometry\u001b[0m\u001b[0;34m.\u001b[0m\u001b[0m__init__\u001b[0m\u001b[0;34m(\u001b[0m\u001b[0mself\u001b[0m\u001b[0;34m)\u001b[0m\u001b[0;34m\u001b[0m\u001b[0;34m\u001b[0m\u001b[0m\n\u001b[1;32m     54\u001b[0m         \u001b[0;32mif\u001b[0m \u001b[0mcoordinates\u001b[0m \u001b[0;32mis\u001b[0m \u001b[0;32mnot\u001b[0m \u001b[0;32mNone\u001b[0m\u001b[0;34m:\u001b[0m\u001b[0;34m\u001b[0m\u001b[0;34m\u001b[0m\u001b[0m\n\u001b[0;32m---> 55\u001b[0;31m             \u001b[0mself\u001b[0m\u001b[0;34m.\u001b[0m\u001b[0m_set_coords\u001b[0m\u001b[0;34m(\u001b[0m\u001b[0mcoordinates\u001b[0m\u001b[0;34m)\u001b[0m\u001b[0;34m\u001b[0m\u001b[0;34m\u001b[0m\u001b[0m\n\u001b[0m\u001b[1;32m     56\u001b[0m \u001b[0;34m\u001b[0m\u001b[0m\n\u001b[1;32m     57\u001b[0m     \u001b[0;34m@\u001b[0m\u001b[0mproperty\u001b[0m\u001b[0;34m\u001b[0m\u001b[0;34m\u001b[0m\u001b[0m\n",
      "\u001b[0;32m~/opt/anaconda3/envs/myenv38/lib/python3.8/site-packages/shapely/geometry/polygon.py\u001b[0m in \u001b[0;36m_set_coords\u001b[0;34m(self, coordinates)\u001b[0m\n\u001b[1;32m     68\u001b[0m     \u001b[0;32mdef\u001b[0m \u001b[0m_set_coords\u001b[0m\u001b[0;34m(\u001b[0m\u001b[0mself\u001b[0m\u001b[0;34m,\u001b[0m \u001b[0mcoordinates\u001b[0m\u001b[0;34m)\u001b[0m\u001b[0;34m:\u001b[0m\u001b[0;34m\u001b[0m\u001b[0;34m\u001b[0m\u001b[0m\n\u001b[1;32m     69\u001b[0m         \u001b[0mself\u001b[0m\u001b[0;34m.\u001b[0m\u001b[0mempty\u001b[0m\u001b[0;34m(\u001b[0m\u001b[0;34m)\u001b[0m\u001b[0;34m\u001b[0m\u001b[0;34m\u001b[0m\u001b[0m\n\u001b[0;32m---> 70\u001b[0;31m         \u001b[0mret\u001b[0m \u001b[0;34m=\u001b[0m \u001b[0mgeos_linearring_from_py\u001b[0m\u001b[0;34m(\u001b[0m\u001b[0mcoordinates\u001b[0m\u001b[0;34m)\u001b[0m\u001b[0;34m\u001b[0m\u001b[0;34m\u001b[0m\u001b[0m\n\u001b[0m\u001b[1;32m     71\u001b[0m         \u001b[0;32mif\u001b[0m \u001b[0mret\u001b[0m \u001b[0;32mis\u001b[0m \u001b[0;32mnot\u001b[0m \u001b[0;32mNone\u001b[0m\u001b[0;34m:\u001b[0m\u001b[0;34m\u001b[0m\u001b[0;34m\u001b[0m\u001b[0m\n\u001b[1;32m     72\u001b[0m             \u001b[0mself\u001b[0m\u001b[0;34m.\u001b[0m\u001b[0m_geom\u001b[0m\u001b[0;34m,\u001b[0m \u001b[0mself\u001b[0m\u001b[0;34m.\u001b[0m\u001b[0m_ndim\u001b[0m \u001b[0;34m=\u001b[0m \u001b[0mret\u001b[0m\u001b[0;34m\u001b[0m\u001b[0;34m\u001b[0m\u001b[0m\n",
      "\u001b[0;31mKeyboardInterrupt\u001b[0m: "
     ]
    }
   ],
   "source": [
    "# loading EASYMORE\n",
    "from easymore.easymore import easymore\n",
    "\n",
    "# initializing EASYMORE object\n",
    "esmr = easymore()\n",
    "\n",
    "# specifying EASYMORE objects\n",
    "# name of the case; the temporary, remapping and remapped file names include case name\n",
    "esmr.case_name                = 'North_Asia'              \n",
    "# temporary path that the EASYMORE generated GIS files and remapped file will be saved\n",
    "esmr.temp_dir                 = '../temporary/'\n",
    "# name of target shapefile that the source netcdf files should be remapped to\n",
    "esmr.target_shp               = '/Users/shg096/Desktop/MERIT_Hydro/cat_final/cat_pfaf_35_MERIT_Hydro_v07_Basins_v01_bugfix1_fixed.shp'\n",
    "# name of netCDF file(s); multiple files can be specified with *\n",
    "esmr.source_nc                = '../data/Source_nc_ERA5/ERA5_subset_NorthAsia_*.nc'\n",
    "# name of variables from source netCDF file(s) to be remapped\n",
    "esmr.var_names                = ['airtemp']\n",
    "# rename the variables from source netCDF file(s) in the remapped files;\n",
    "# it will be the same as source if not provided\n",
    "esmr.var_names_remapped       = ['temperature']\n",
    "# name of variable longitude in source netCDF files\n",
    "esmr.var_lon                  = 'longitude'\n",
    "# name of variable latitude in source netCDF files\n",
    "esmr.var_lat                  = 'latitude'\n",
    "# name of variable time in source netCDF file; should be always time\n",
    "esmr.var_time                 = 'time'\n",
    "# location where the remapped netCDF file will be saved\n",
    "esmr.output_dir               = '../output/'\n",
    "# format of the variables to be saved in remapped files,\n",
    "# if one format provided it will be expanded to other variables\n",
    "esmr.format_list              = ['f4']\n",
    "# fill values of the variables to be saved in remapped files,\n",
    "# if one value provided it will be expanded to other variables\n",
    "esmr.fill_value_list          = ['-9999.00']\n",
    "# if required that the remapped values to be saved as csv as well\n",
    "esmr.save_csv                 = True\n",
    "# if uncommented EASYMORE will use this and skip GIS tasks\n",
    "# esmr.remap_csv                = '../temporary/ERA5_Medicine_Hat_remapping.csv'\n",
    "\n",
    "# execute EASYMORE\n",
    "esmr.nc_remapper()\n",
    "\n"
   ]
  },
  {
   "cell_type": "code",
   "execution_count": null,
   "id": "affiliated-original",
   "metadata": {},
   "outputs": [],
   "source": [
    "# visualize the result\n",
    "import geopandas as gpd\n",
    "import xarray as xr\n",
    "import glob\n",
    "import pandas as pd\n",
    "import numpy as np\n",
    "import matplotlib.pyplot as plt\n",
    "import matplotlib\n",
    "font = {'family' : 'Times New Roman',\n",
    "         'weight' : 'bold',\n",
    "         'size'   : 24}\n",
    "matplotlib.rc('font', **font)\n",
    "\n",
    "# visualize the original netCDF for the first file, first time step\n",
    "shp_target = gpd.read_file(esmr.target_shp) # load the target shapefile\n",
    "# load the first source netcdf file\n",
    "nc_name = sorted(glob.glob(esmr.source_nc))\n",
    "ds_source = xr.open_dataset(nc_name[0])\n",
    "# subset the region of interest:\n",
    "lat_lim = np.array([ 48.2 , 51.7 ]) # limit for lat\n",
    "lon_lim = np.array([ -116.5 , -110.5 ]) # limit for lon\n",
    "lats = np.array(ds_source.variables[esmr.var_lat][:] )\n",
    "lons = np.array(ds_source.variables[esmr.var_lon][:])\n",
    "lat_low = np.argmin( np.abs( lats - lat_lim[0] ) )\n",
    "lat_up = np.argmin( np.abs( lats - lat_lim[1] ) )\n",
    "lon_low = np.argmin( np.abs( lons - lon_lim[0] ) )\n",
    "lon_up = np.argmin( np.abs( lons - lon_lim[1] ) )\n",
    "if lat_up < lat_low:\n",
    "    temp = lat_low\n",
    "    lat_low = lat_up\n",
    "    lat_up = temp\n",
    "if lon_up < lon_low:\n",
    "    temp = lon_low\n",
    "    lon_low = lon_up\n",
    "    lon_up = temp\n",
    "ds_source = ds_source.isel(latitude=np.arange(lat_low,lat_up))\n",
    "ds_source = ds_source.isel(longitude=np.arange(lon_low,lon_up))\n",
    "# plotting\n",
    "f, axes = plt.subplots(1,1,figsize=(15,15))\n",
    "ds_source.airtemp[0,:,:].plot( ax = axes)\n",
    "shp_target.geometry.boundary.plot(color=None,edgecolor='k',linewidth = 1, ax = axes)\n",
    "plt.savefig('../fig/Example1_A.png')\n",
    "\n",
    "# visualize the remapped netCDF for the first file, first time step\n",
    "# target nc file\n",
    "nc_names = sorted(glob.glob (esmr.output_dir + esmr.case_name + '*.nc'))\n",
    "ds       = xr.open_dataset(nc_names[0]) # the first netcdf file\n",
    "values   = ds.temperature [0,:] # the first time frame of the first \n",
    "IDs      = ds.ID [:] # get the ID\n",
    "# create a data frame for the model simulation\n",
    "df = pd.DataFrame()\n",
    "df ['value'] = values\n",
    "df ['ID_t']    = IDs  # .astype(int)\n",
    "df = df.sort_values (by = 'ID_t')\n",
    "# load the shape file target that is generated by EASYMORE (with consistent IDs)\n",
    "shp_target = gpd.read_file(esmr.temp_dir+ esmr.case_name + '_target_shapefile.shp') # load the target shapefile\n",
    "shp_target ['ID_t'] = shp_target ['ID_t'].astype(float)\n",
    "shp_target = shp_target.sort_values(by='ID_t')# sort on values\n",
    "shp_target = pd.merge_asof(shp_target, df, on='ID_t', direction='nearest')\n",
    "shp_target = shp_target.set_geometry('geometry') #bring back the geometry filed; pd to gpd\n",
    "# plotting\n",
    "f, axes = plt.subplots(1,1,figsize=(15,15))\n",
    "ds_source.airtemp[0,:,:].plot( ax = axes)\n",
    "ds_source.airtemp[0,:,:].plot( ax = axes, alpha = 1, add_colorbar=False)\n",
    "shp_target.plot(column= 'value', edgecolor='k',linewidth = 1, ax = axes )#, legend=True)\n",
    "plt.savefig('../fig/Example1_B.png')\n",
    "\n"
   ]
  },
  {
   "cell_type": "code",
   "execution_count": 1,
   "id": "fuzzy-venezuela",
   "metadata": {},
   "outputs": [
    {
     "name": "stdout",
     "output_type": "stream",
     "text": [
      "<xarray.Dataset>\n",
      "Dimensions:    (latitude: 146, longitude: 528, time: 24)\n",
      "Coordinates:\n",
      "  * longitude  (longitude) float32 58.75 59.0 59.25 59.5 ... 190.0 190.2 190.5\n",
      "  * latitude   (latitude) float32 81.5 81.25 81.0 80.75 ... 45.75 45.5 45.25\n",
      "  * time       (time) datetime64[ns] 1980-01-01 ... 1980-01-01T23:00:00\n",
      "Data variables:\n",
      "    LWRadAtm   (time, latitude, longitude) float32 ...\n",
      "    SWRadAtm   (time, latitude, longitude) float32 ...\n",
      "    pptrate    (time, latitude, longitude) float32 ...\n",
      "    airpres    (time, latitude, longitude) float32 ...\n",
      "    airtemp    (time, latitude, longitude) float32 ...\n",
      "    spechum    (time, latitude, longitude) float32 ...\n",
      "    windspd    (time, latitude, longitude) float32 ...\n",
      "Attributes:\n",
      "    History:                                  Created Mon Jul 19 00:07:20 2021\n",
      "    Language:                                 Written using Python\n",
      "    Reason:                                   (1) ERA5 surface and pressure f...\n",
      "    Conventions (pressure level (10m) data):  CF-1.6\n",
      "    history (pressure level (10m) data):      2021-06-20 01:08:25 GMT by grib...\n",
      "    Conventions (surface level data):         CF-1.6\n",
      "    history (surface level data):             2021-06-20 01:08:25 GMT by grib...\n"
     ]
    }
   ],
   "source": [
    "# visualize the result\n",
    "import geopandas as gpd\n",
    "import xarray as xr\n",
    "import glob\n",
    "import pandas as pd\n",
    "import numpy as np\n",
    "import matplotlib.pyplot as plt\n",
    "import matplotlib\n",
    "font = {'family' : 'Times New Roman',\n",
    "         'weight' : 'bold',\n",
    "         'size'   : 24}\n",
    "matplotlib.rc('font', **font)\n",
    "\n",
    "ds = xr.open_dataset('/Users/shg096/Desktop/EASYMORE/data/Source_nc_ERA5/ERA5_subset_NorthAsia_19800101.nc')\n",
    "\n",
    "print(ds)\n"
   ]
  },
  {
   "cell_type": "code",
   "execution_count": 4,
   "id": "consecutive-african",
   "metadata": {},
   "outputs": [
    {
     "ename": "AttributeError",
     "evalue": "'easymore' object has no attribute '__version__'",
     "output_type": "error",
     "traceback": [
      "\u001b[0;31m---------------------------------------------------------------------------\u001b[0m",
      "\u001b[0;31mAttributeError\u001b[0m                            Traceback (most recent call last)",
      "\u001b[0;32m<ipython-input-4-26c234c76352>\u001b[0m in \u001b[0;36m<module>\u001b[0;34m\u001b[0m\n\u001b[1;32m      5\u001b[0m \u001b[0mesmr\u001b[0m \u001b[0;34m=\u001b[0m \u001b[0measymore\u001b[0m\u001b[0;34m(\u001b[0m\u001b[0;34m)\u001b[0m\u001b[0;34m\u001b[0m\u001b[0;34m\u001b[0m\u001b[0m\n\u001b[1;32m      6\u001b[0m \u001b[0;34m\u001b[0m\u001b[0m\n\u001b[0;32m----> 7\u001b[0;31m \u001b[0mprint\u001b[0m\u001b[0;34m(\u001b[0m\u001b[0mesmr\u001b[0m\u001b[0;34m.\u001b[0m\u001b[0m__version__\u001b[0m\u001b[0;34m)\u001b[0m\u001b[0;34m\u001b[0m\u001b[0;34m\u001b[0m\u001b[0m\n\u001b[0m",
      "\u001b[0;31mAttributeError\u001b[0m: 'easymore' object has no attribute '__version__'"
     ]
    }
   ],
   "source": [
    "# loading EASYMORE\n",
    "from easymore.easymore import easymore\n",
    "\n",
    "# initializing EASYMORE object\n",
    "esmr = easymore()\n",
    "\n",
    "print(esmr.__version__)"
   ]
  },
  {
   "cell_type": "code",
   "execution_count": 2,
   "id": "therapeutic-demand",
   "metadata": {},
   "outputs": [
    {
     "ename": "AttributeError",
     "evalue": "'easymore' object has no attribute 'version'",
     "output_type": "error",
     "traceback": [
      "\u001b[0;31m---------------------------------------------------------------------------\u001b[0m",
      "\u001b[0;31mAttributeError\u001b[0m                            Traceback (most recent call last)",
      "\u001b[0;32m<ipython-input-2-fc2e39219cf7>\u001b[0m in \u001b[0;36m<module>\u001b[0;34m\u001b[0m\n\u001b[0;32m----> 1\u001b[0;31m \u001b[0mprint\u001b[0m\u001b[0;34m(\u001b[0m\u001b[0mesmr\u001b[0m\u001b[0;34m.\u001b[0m\u001b[0mversion\u001b[0m\u001b[0;34m)\u001b[0m\u001b[0;34m\u001b[0m\u001b[0;34m\u001b[0m\u001b[0m\n\u001b[0m",
      "\u001b[0;31mAttributeError\u001b[0m: 'easymore' object has no attribute 'version'"
     ]
    }
   ],
   "source": [
    "print(esmr.)"
   ]
  },
  {
   "cell_type": "code",
   "execution_count": null,
   "id": "interested-increase",
   "metadata": {},
   "outputs": [],
   "source": []
  }
 ],
 "metadata": {
  "kernelspec": {
   "display_name": "myenv",
   "language": "python",
   "name": "myenv"
  },
  "language_info": {
   "codemirror_mode": {
    "name": "ipython",
    "version": 3
   },
   "file_extension": ".py",
   "mimetype": "text/x-python",
   "name": "python",
   "nbconvert_exporter": "python",
   "pygments_lexer": "ipython3",
   "version": "3.8.8"
  }
 },
 "nbformat": 4,
 "nbformat_minor": 5
}

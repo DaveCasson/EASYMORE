{
 "cells": [
  {
   "cell_type": "code",
   "execution_count": null,
   "metadata": {},
   "outputs": [],
   "source": [
    "import geopandas as gpd\n",
    "\n",
    "shp = gpd.read_file('/Users/shg096/Desktop/catEndoMERITpfaf_NA.shp')\n",
    "shp = shp.to_crs(\"EPSG:4326\")\n",
    "shp.to_file('/Users/shg096/Desktop/catEndoMERITpfaf_NA_WGS84.shp')\n",
    "\n",
    "shp_1 = shp.iloc[0:1]\n",
    "shp_1.to_file('/Users/shg096/Desktop/catEndoMERITpfaf_NA_1.shp')\n",
    "shp_1 = shp.iloc[0:10]\n",
    "shp_1.to_file('/Users/shg096/Desktop/catEndoMERITpfaf_NA_10.shp')\n",
    "shp_1 = shp.iloc[0:100]\n",
    "shp_1.to_file('/Users/shg096/Desktop/catEndoMERITpfaf_NA_100.shp')\n",
    "shp_1 = shp.iloc[0:1000]\n",
    "shp_1.to_file('/Users/shg096/Desktop/catEndoMERITpfaf_NA_1000.shp')\n",
    "shp_1 = shp.iloc[0:10000]\n",
    "shp_1.to_file('/Users/shg096/Desktop/catEndoMERITpfaf_NA_10000.shp')\n",
    "shp_1 = shp.iloc[0:100000]\n",
    "shp_1.to_file('/Users/shg096/Desktop/catEndoMERITpfaf_NA_100000.shp')\n"
   ]
  },
  {
   "cell_type": "code",
   "execution_count": 1,
   "metadata": {},
   "outputs": [
    {
     "name": "stdout",
     "output_type": "stream",
     "text": [
      "no  author name is provide and the author name is changes to (author name)!\n",
      "candex is given multiple varibales to be remapped but only on format and fill valuecandex repeat the format and fill value for all the variables in output files\n",
      "candex detects that target shapefile is in WGS84 (epsg:4326)\n",
      "candex detects that no field for ID is provided in sink/target shapefile\n",
      "arbitarary values of ID are added in the field ID_t\n",
      "candex detects that no field for latitude is provided in sink/target shapefile\n",
      "latitude values are added in the field lat_t\n"
     ]
    },
    {
     "name": "stderr",
     "output_type": "stream",
     "text": [
      "/Users/shg096/opt/anaconda3/lib/python3.8/site-packages/candex/candex.py:209: UserWarning: Geometry is in a geographic CRS. Results from 'centroid' are likely incorrect. Use 'GeoSeries.to_crs()' to re-project geometries to a projected CRS before this operation.\n",
      "\n",
      "  shp['lat_t']  = shp.centroid.y # centroid lat from target\n"
     ]
    },
    {
     "name": "stdout",
     "output_type": "stream",
     "text": [
      "candex detects that no field for longitude is provided in sink/target shapefile\n",
      "longitude values are added in the field lon_t\n"
     ]
    },
    {
     "name": "stderr",
     "output_type": "stream",
     "text": [
      "/Users/shg096/opt/anaconda3/lib/python3.8/site-packages/candex/candex.py:216: UserWarning: Geometry is in a geographic CRS. Results from 'centroid' are likely incorrect. Use 'GeoSeries.to_crs()' to re-project geometries to a projected CRS before this operation.\n",
      "\n",
      "  shp['lon_t']  = shp.centroid.x # centroid lon from target\n"
     ]
    },
    {
     "name": "stdout",
     "output_type": "stream",
     "text": [
      "it seems everything is OK with the sink/target shapefile; added to candex object sink_shp_gpd\n",
      "candex will save standard shapefile for candex claculation as:\n",
      "../temporary/ERA5_Merit_NA_sink_shapefile.shp\n",
      "candex detects that the varibales from the netCDF files are identicalin dimensions of the varibales and latitude and longitude\n",
      "candex detects that all the varibales have dimensions of:\n",
      "['time', 'latitude', 'longitude']\n",
      "candex detects that the longitude varibales has dimensions of:\n",
      "['longitude']\n",
      "candex detects that the latitude varibales has dimensions of:\n",
      "['latitude']\n",
      "candex detects case 1 - regular lat/lon\n",
      "[-0.25]\n",
      "(1,)\n",
      "[0.25]\n",
      "(1,)\n",
      "candex is creating the shapefile from the netCDF file and saving it here:\n",
      "../temporary/ERA5_Merit_NA_source_shapefile.shp\n",
      "-170.125 4.875 -49.875 75.125\n",
      "candex decides the netCDF file has longtitude values of -180 to 180; creating the extended\n"
     ]
    },
    {
     "name": "stderr",
     "output_type": "stream",
     "text": [
      "/Users/shg096/opt/anaconda3/lib/python3.8/site-packages/candex/candex.py:731: UserWarning: Geometry is in a geographic CRS. Results from 'area' are likely incorrect. Use 'GeoSeries.to_crs()' to re-project geometries to a projected CRS before this operation.\n",
      "\n",
      "  shp_1['AS1']  = shp_1.area\n",
      "/Users/shg096/opt/anaconda3/lib/python3.8/site-packages/candex/candex.py:743: UserWarning: Geometry is in a geographic CRS. Results from 'area' are likely incorrect. Use 'GeoSeries.to_crs()' to re-project geometries to a projected CRS before this operation.\n",
      "\n",
      "  shp_2['AS2']  = shp_2.area\n",
      "/Users/shg096/opt/anaconda3/lib/python3.8/site-packages/candex/candex.py:831: FutureWarning: Assigning CRS to a GeoDataFrame without a geometry column is now deprecated and will not be supported in the future.\n",
      "  pairs = gpd.GeoDataFrame(nei, columns=['idx1','idx2'], crs=df1.crs)\n",
      "/Users/shg096/opt/anaconda3/lib/python3.8/site-packages/candex/candex.py:835: FutureWarning: Assigning CRS to a GeoDataFrame without a geometry column is now deprecated and will not be supported in the future.\n",
      "  pairs = gpd.GeoDataFrame(pairs, columns=pairs.columns, crs=df1.crs)\n",
      "/Users/shg096/opt/anaconda3/lib/python3.8/site-packages/candex/candex.py:748: UserWarning: Geometry is in a geographic CRS. Results from 'area' are likely incorrect. Use 'GeoSeries.to_crs()' to re-project geometries to a projected CRS before this operation.\n",
      "\n",
      "  result['AINT'] = result['geometry'].area\n"
     ]
    },
    {
     "name": "stdout",
     "output_type": "stream",
     "text": [
      "Remapping ../data/Source_nc_ERA5/ERA5_NA_19790101.nc to ../output/ERA5_Merit_NA_remapped_1979-01-01-00-00-00.nc\n",
      "Started at date and time 2021-03-03 12:27:52.852567\n",
      "Ended   at date and time 2021-03-03 12:27:57.103611\n",
      "Remapping ../data/Source_nc_ERA5/ERA5_NA_19790102.nc to ../output/ERA5_Merit_NA_remapped_1979-01-02-00-00-00.nc\n",
      "Started at date and time 2021-03-03 12:27:57.125069\n",
      "Ended   at date and time 2021-03-03 12:28:00.834283\n",
      "Remapping ../data/Source_nc_ERA5/ERA5_NA_19790103.nc to ../output/ERA5_Merit_NA_remapped_1979-01-03-00-00-00.nc\n",
      "Started at date and time 2021-03-03 12:28:00.860123\n",
      "Ended   at date and time 2021-03-03 12:28:04.553557\n"
     ]
    }
   ],
   "source": [
    "# loading candex\n",
    "from candex.candex import candex\n",
    "\n",
    "# initializing candex object\n",
    "cndx = candex()\n",
    "\n",
    "# specifying candex objects\n",
    "# name of the case; the temporary, remapping and remapped file names include case name\n",
    "cndx.case_name                = 'ERA5_Merit_NA'              \n",
    "# temporary path that the candex generated GIS files and remapped file will be saved\n",
    "cndx.temp_dir                 = '../temporary/'\n",
    "# name of target shapefile that the source netcdf files should be remapped to\n",
    "cndx.sink_shp                 = '/Users/shg096/Desktop/catEndoMERITpfaf_NA_WGS84.shp'\n",
    "# name of netCDF file(s); multiple files can be specified with *\n",
    "cndx.source_nc                = '../data/Source_nc_ERA5/ERA5_NA_*.nc'\n",
    "# name of variables from source netCDF file(s) to be remapped\n",
    "cndx.var_names                = ['airtemp','pptrate']\n",
    "# name of variable longitude in source netCDF files\n",
    "cndx.var_lon                  = 'longitude'\n",
    "# name of variable latitude in source netCDF files\n",
    "cndx.var_lat                  = 'latitude'\n",
    "# name of variable time in source netCDF file; should be always time\n",
    "cndx.var_time                 = 'time'\n",
    "# location where the remapped netCDF file will be saved\n",
    "cndx.output_dir               = '../output/'\n",
    "# format of the variables to be saved in remapped files,\n",
    "# if one format provided it will be expanded to other variables\n",
    "cndx.format_list              = ['f4']\n",
    "# fill values of the variables to be saved in remapped files,\n",
    "# if one value provided it will be expanded to other variables\n",
    "cndx.fill_value_list          = ['-9999.00']\n",
    "# if uncommented candex will use this and skip GIS tasks\n",
    "# cndx.remap_csv                = '../temporary/ERA5_Medicine_Hat_remapping.csv'\n",
    "\n",
    "# execute candex\n",
    "cndx.run_candex()"
   ]
  },
  {
   "cell_type": "code",
   "execution_count": 2,
   "metadata": {},
   "outputs": [
    {
     "name": "stdout",
     "output_type": "stream",
     "text": [
      "no  author name is provide and the author name is changes to (author name)!\n",
      "candex is given multiple varibales to be remapped but only on format and fill valuecandex repeat the format and fill value for all the variables in output files\n",
      "candex detects that target shapefile is in WGS84 (epsg:4326)\n",
      "candex detects that no field for ID is provided in sink/target shapefile\n",
      "arbitarary values of ID are added in the field ID_t\n",
      "candex detects that no field for latitude is provided in sink/target shapefile\n",
      "latitude values are added in the field lat_t\n"
     ]
    },
    {
     "name": "stderr",
     "output_type": "stream",
     "text": [
      "/Users/shg096/opt/anaconda3/lib/python3.8/site-packages/candex/candex.py:209: UserWarning: Geometry is in a geographic CRS. Results from 'centroid' are likely incorrect. Use 'GeoSeries.to_crs()' to re-project geometries to a projected CRS before this operation.\n",
      "\n",
      "  shp['lat_t']  = shp.centroid.y # centroid lat from target\n"
     ]
    },
    {
     "name": "stdout",
     "output_type": "stream",
     "text": [
      "candex detects that no field for longitude is provided in sink/target shapefile\n",
      "longitude values are added in the field lon_t\n"
     ]
    },
    {
     "name": "stderr",
     "output_type": "stream",
     "text": [
      "/Users/shg096/opt/anaconda3/lib/python3.8/site-packages/candex/candex.py:216: UserWarning: Geometry is in a geographic CRS. Results from 'centroid' are likely incorrect. Use 'GeoSeries.to_crs()' to re-project geometries to a projected CRS before this operation.\n",
      "\n",
      "  shp['lon_t']  = shp.centroid.x # centroid lon from target\n"
     ]
    },
    {
     "name": "stdout",
     "output_type": "stream",
     "text": [
      "it seems everything is OK with the sink/target shapefile; added to candex object sink_shp_gpd\n",
      "candex will save standard shapefile for candex claculation as:\n",
      "../temporary/ERA5_Merit_NA_100000_sink_shapefile.shp\n",
      "candex detects that the varibales from the netCDF files are identicalin dimensions of the varibales and latitude and longitude\n",
      "candex detects that all the varibales have dimensions of:\n",
      "['time', 'latitude', 'longitude']\n",
      "candex detects that the longitude varibales has dimensions of:\n",
      "['longitude']\n",
      "candex detects that the latitude varibales has dimensions of:\n",
      "['latitude']\n",
      "candex detects case 1 - regular lat/lon\n",
      "[-0.25]\n",
      "(1,)\n",
      "[0.25]\n",
      "(1,)\n",
      "candex is creating the shapefile from the netCDF file and saving it here:\n",
      "../temporary/ERA5_Merit_NA_100000_source_shapefile.shp\n",
      "-170.125 4.875 -49.875 75.125\n",
      "candex decides the netCDF file has longtitude values of -180 to 180; creating the extended\n"
     ]
    },
    {
     "name": "stderr",
     "output_type": "stream",
     "text": [
      "/Users/shg096/opt/anaconda3/lib/python3.8/site-packages/candex/candex.py:731: UserWarning: Geometry is in a geographic CRS. Results from 'area' are likely incorrect. Use 'GeoSeries.to_crs()' to re-project geometries to a projected CRS before this operation.\n",
      "\n",
      "  shp_1['AS1']  = shp_1.area\n",
      "/Users/shg096/opt/anaconda3/lib/python3.8/site-packages/candex/candex.py:743: UserWarning: Geometry is in a geographic CRS. Results from 'area' are likely incorrect. Use 'GeoSeries.to_crs()' to re-project geometries to a projected CRS before this operation.\n",
      "\n",
      "  shp_2['AS2']  = shp_2.area\n",
      "/Users/shg096/opt/anaconda3/lib/python3.8/site-packages/candex/candex.py:831: FutureWarning: Assigning CRS to a GeoDataFrame without a geometry column is now deprecated and will not be supported in the future.\n",
      "  pairs = gpd.GeoDataFrame(nei, columns=['idx1','idx2'], crs=df1.crs)\n",
      "/Users/shg096/opt/anaconda3/lib/python3.8/site-packages/candex/candex.py:835: FutureWarning: Assigning CRS to a GeoDataFrame without a geometry column is now deprecated and will not be supported in the future.\n",
      "  pairs = gpd.GeoDataFrame(pairs, columns=pairs.columns, crs=df1.crs)\n",
      "/Users/shg096/opt/anaconda3/lib/python3.8/site-packages/candex/candex.py:748: UserWarning: Geometry is in a geographic CRS. Results from 'area' are likely incorrect. Use 'GeoSeries.to_crs()' to re-project geometries to a projected CRS before this operation.\n",
      "\n",
      "  result['AINT'] = result['geometry'].area\n"
     ]
    },
    {
     "name": "stdout",
     "output_type": "stream",
     "text": [
      "Remapping ../data/Source_nc_ERA5/ERA5_NA_19790101.nc to ../output/ERA5_Merit_NA_100000_remapped_1979-01-01-00-00-00.nc\n",
      "Started at date and time 2021-03-03 12:42:39.309155\n",
      "Ended   at date and time 2021-03-03 12:42:40.183651\n",
      "Remapping ../data/Source_nc_ERA5/ERA5_NA_19790102.nc to ../output/ERA5_Merit_NA_100000_remapped_1979-01-02-00-00-00.nc\n",
      "Started at date and time 2021-03-03 12:42:40.199492\n",
      "Ended   at date and time 2021-03-03 12:42:41.116093\n",
      "Remapping ../data/Source_nc_ERA5/ERA5_NA_19790103.nc to ../output/ERA5_Merit_NA_100000_remapped_1979-01-03-00-00-00.nc\n",
      "Started at date and time 2021-03-03 12:42:41.130033\n",
      "Ended   at date and time 2021-03-03 12:42:42.027740\n"
     ]
    }
   ],
   "source": [
    "# loading candex\n",
    "from candex.candex import candex\n",
    "\n",
    "# initializing candex object\n",
    "cndx = candex()\n",
    "\n",
    "# specifying candex objects\n",
    "# name of the case; the temporary, remapping and remapped file names include case name\n",
    "cndx.case_name                = 'ERA5_Merit_NA_100000'              \n",
    "# temporary path that the candex generated GIS files and remapped file will be saved\n",
    "cndx.temp_dir                 = '../temporary/'\n",
    "# name of target shapefile that the source netcdf files should be remapped to\n",
    "cndx.sink_shp                 = '/Users/shg096/Desktop/catEndoMERITpfaf_NA_100000.shp'\n",
    "# name of netCDF file(s); multiple files can be specified with *\n",
    "cndx.source_nc                = '../data/Source_nc_ERA5/ERA5_NA_*.nc'\n",
    "# name of variables from source netCDF file(s) to be remapped\n",
    "cndx.var_names                = ['airtemp','pptrate']\n",
    "# name of variable longitude in source netCDF files\n",
    "cndx.var_lon                  = 'longitude'\n",
    "# name of variable latitude in source netCDF files\n",
    "cndx.var_lat                  = 'latitude'\n",
    "# name of variable time in source netCDF file; should be always time\n",
    "cndx.var_time                 = 'time'\n",
    "# location where the remapped netCDF file will be saved\n",
    "cndx.output_dir               = '../output/'\n",
    "# format of the variables to be saved in remapped files,\n",
    "# if one format provided it will be expanded to other variables\n",
    "cndx.format_list              = ['f4']\n",
    "# fill values of the variables to be saved in remapped files,\n",
    "# if one value provided it will be expanded to other variables\n",
    "cndx.fill_value_list          = ['-9999.00']\n",
    "# if uncommented candex will use this and skip GIS tasks\n",
    "# cndx.remap_csv                = '../temporary/ERA5_Medicine_Hat_remapping.csv'\n",
    "\n",
    "# execute candex\n",
    "cndx.run_candex()\n",
    "\n"
   ]
  },
  {
   "cell_type": "code",
   "execution_count": 3,
   "metadata": {},
   "outputs": [
    {
     "name": "stdout",
     "output_type": "stream",
     "text": [
      "no  author name is provide and the author name is changes to (author name)!\n",
      "candex is given multiple varibales to be remapped but only on format and fill valuecandex repeat the format and fill value for all the variables in output files\n",
      "candex detects that target shapefile is in WGS84 (epsg:4326)\n",
      "candex detects that no field for ID is provided in sink/target shapefile\n",
      "arbitarary values of ID are added in the field ID_t\n",
      "candex detects that no field for latitude is provided in sink/target shapefile\n",
      "latitude values are added in the field lat_t\n"
     ]
    },
    {
     "name": "stderr",
     "output_type": "stream",
     "text": [
      "/Users/shg096/opt/anaconda3/lib/python3.8/site-packages/candex/candex.py:209: UserWarning: Geometry is in a geographic CRS. Results from 'centroid' are likely incorrect. Use 'GeoSeries.to_crs()' to re-project geometries to a projected CRS before this operation.\n",
      "\n",
      "  shp['lat_t']  = shp.centroid.y # centroid lat from target\n"
     ]
    },
    {
     "name": "stdout",
     "output_type": "stream",
     "text": [
      "candex detects that no field for longitude is provided in sink/target shapefile\n",
      "longitude values are added in the field lon_t\n"
     ]
    },
    {
     "name": "stderr",
     "output_type": "stream",
     "text": [
      "/Users/shg096/opt/anaconda3/lib/python3.8/site-packages/candex/candex.py:216: UserWarning: Geometry is in a geographic CRS. Results from 'centroid' are likely incorrect. Use 'GeoSeries.to_crs()' to re-project geometries to a projected CRS before this operation.\n",
      "\n",
      "  shp['lon_t']  = shp.centroid.x # centroid lon from target\n"
     ]
    },
    {
     "name": "stdout",
     "output_type": "stream",
     "text": [
      "it seems everything is OK with the sink/target shapefile; added to candex object sink_shp_gpd\n",
      "candex will save standard shapefile for candex claculation as:\n",
      "../temporary/ERA5_Merit_NA_10000_sink_shapefile.shp\n",
      "candex detects that the varibales from the netCDF files are identicalin dimensions of the varibales and latitude and longitude\n",
      "candex detects that all the varibales have dimensions of:\n",
      "['time', 'latitude', 'longitude']\n",
      "candex detects that the longitude varibales has dimensions of:\n",
      "['longitude']\n",
      "candex detects that the latitude varibales has dimensions of:\n",
      "['latitude']\n",
      "candex detects case 1 - regular lat/lon\n",
      "[-0.25]\n",
      "(1,)\n",
      "[0.25]\n",
      "(1,)\n",
      "candex is creating the shapefile from the netCDF file and saving it here:\n",
      "../temporary/ERA5_Merit_NA_10000_source_shapefile.shp\n",
      "-170.125 4.875 -49.875 75.125\n",
      "candex decides the netCDF file has longtitude values of -180 to 180; creating the extended\n"
     ]
    },
    {
     "name": "stderr",
     "output_type": "stream",
     "text": [
      "/Users/shg096/opt/anaconda3/lib/python3.8/site-packages/candex/candex.py:731: UserWarning: Geometry is in a geographic CRS. Results from 'area' are likely incorrect. Use 'GeoSeries.to_crs()' to re-project geometries to a projected CRS before this operation.\n",
      "\n",
      "  shp_1['AS1']  = shp_1.area\n",
      "/Users/shg096/opt/anaconda3/lib/python3.8/site-packages/candex/candex.py:743: UserWarning: Geometry is in a geographic CRS. Results from 'area' are likely incorrect. Use 'GeoSeries.to_crs()' to re-project geometries to a projected CRS before this operation.\n",
      "\n",
      "  shp_2['AS2']  = shp_2.area\n",
      "/Users/shg096/opt/anaconda3/lib/python3.8/site-packages/candex/candex.py:831: FutureWarning: Assigning CRS to a GeoDataFrame without a geometry column is now deprecated and will not be supported in the future.\n",
      "  pairs = gpd.GeoDataFrame(nei, columns=['idx1','idx2'], crs=df1.crs)\n",
      "/Users/shg096/opt/anaconda3/lib/python3.8/site-packages/candex/candex.py:835: FutureWarning: Assigning CRS to a GeoDataFrame without a geometry column is now deprecated and will not be supported in the future.\n",
      "  pairs = gpd.GeoDataFrame(pairs, columns=pairs.columns, crs=df1.crs)\n",
      "/Users/shg096/opt/anaconda3/lib/python3.8/site-packages/candex/candex.py:748: UserWarning: Geometry is in a geographic CRS. Results from 'area' are likely incorrect. Use 'GeoSeries.to_crs()' to re-project geometries to a projected CRS before this operation.\n",
      "\n",
      "  result['AINT'] = result['geometry'].area\n"
     ]
    },
    {
     "name": "stdout",
     "output_type": "stream",
     "text": [
      "Remapping ../data/Source_nc_ERA5/ERA5_NA_19790101.nc to ../output/ERA5_Merit_NA_10000_remapped_1979-01-01-00-00-00.nc\n",
      "Started at date and time 2021-03-03 12:46:44.351986\n",
      "Ended   at date and time 2021-03-03 12:46:44.628791\n",
      "Remapping ../data/Source_nc_ERA5/ERA5_NA_19790102.nc to ../output/ERA5_Merit_NA_10000_remapped_1979-01-02-00-00-00.nc\n",
      "Started at date and time 2021-03-03 12:46:44.635944\n",
      "Ended   at date and time 2021-03-03 12:46:44.923614\n",
      "Remapping ../data/Source_nc_ERA5/ERA5_NA_19790103.nc to ../output/ERA5_Merit_NA_10000_remapped_1979-01-03-00-00-00.nc\n",
      "Started at date and time 2021-03-03 12:46:44.929651\n",
      "Ended   at date and time 2021-03-03 12:46:45.205588\n"
     ]
    }
   ],
   "source": [
    "# loading candex\n",
    "from candex.candex import candex\n",
    "\n",
    "# initializing candex object\n",
    "cndx = candex()\n",
    "\n",
    "# specifying candex objects\n",
    "# name of the case; the temporary, remapping and remapped file names include case name\n",
    "cndx.case_name                = 'ERA5_Merit_NA_10000'              \n",
    "# temporary path that the candex generated GIS files and remapped file will be saved\n",
    "cndx.temp_dir                 = '../temporary/'\n",
    "# name of target shapefile that the source netcdf files should be remapped to\n",
    "cndx.sink_shp                 = '/Users/shg096/Desktop/catEndoMERITpfaf_NA_10000.shp'\n",
    "# name of netCDF file(s); multiple files can be specified with *\n",
    "cndx.source_nc                = '../data/Source_nc_ERA5/ERA5_NA_*.nc'\n",
    "# name of variables from source netCDF file(s) to be remapped\n",
    "cndx.var_names                = ['airtemp','pptrate']\n",
    "# name of variable longitude in source netCDF files\n",
    "cndx.var_lon                  = 'longitude'\n",
    "# name of variable latitude in source netCDF files\n",
    "cndx.var_lat                  = 'latitude'\n",
    "# name of variable time in source netCDF file; should be always time\n",
    "cndx.var_time                 = 'time'\n",
    "# location where the remapped netCDF file will be saved\n",
    "cndx.output_dir               = '../output/'\n",
    "# format of the variables to be saved in remapped files,\n",
    "# if one format provided it will be expanded to other variables\n",
    "cndx.format_list              = ['f4']\n",
    "# fill values of the variables to be saved in remapped files,\n",
    "# if one value provided it will be expanded to other variables\n",
    "cndx.fill_value_list          = ['-9999.00']\n",
    "# if uncommented candex will use this and skip GIS tasks\n",
    "# cndx.remap_csv                = '../temporary/ERA5_Medicine_Hat_remapping.csv'\n",
    "\n",
    "# execute candex\n",
    "cndx.run_candex()\n",
    "\n",
    "\n"
   ]
  },
  {
   "cell_type": "code",
   "execution_count": 4,
   "metadata": {},
   "outputs": [
    {
     "name": "stdout",
     "output_type": "stream",
     "text": [
      "no  author name is provide and the author name is changes to (author name)!\n",
      "candex is given multiple varibales to be remapped but only on format and fill valuecandex repeat the format and fill value for all the variables in output files\n",
      "candex detects that target shapefile is in WGS84 (epsg:4326)\n",
      "candex detects that no field for ID is provided in sink/target shapefile\n",
      "arbitarary values of ID are added in the field ID_t\n",
      "candex detects that no field for latitude is provided in sink/target shapefile\n",
      "latitude values are added in the field lat_t\n",
      "candex detects that no field for longitude is provided in sink/target shapefile\n",
      "longitude values are added in the field lon_t\n"
     ]
    },
    {
     "name": "stderr",
     "output_type": "stream",
     "text": [
      "/Users/shg096/opt/anaconda3/lib/python3.8/site-packages/candex/candex.py:209: UserWarning: Geometry is in a geographic CRS. Results from 'centroid' are likely incorrect. Use 'GeoSeries.to_crs()' to re-project geometries to a projected CRS before this operation.\n",
      "\n",
      "  shp['lat_t']  = shp.centroid.y # centroid lat from target\n",
      "/Users/shg096/opt/anaconda3/lib/python3.8/site-packages/candex/candex.py:216: UserWarning: Geometry is in a geographic CRS. Results from 'centroid' are likely incorrect. Use 'GeoSeries.to_crs()' to re-project geometries to a projected CRS before this operation.\n",
      "\n",
      "  shp['lon_t']  = shp.centroid.x # centroid lon from target\n"
     ]
    },
    {
     "name": "stdout",
     "output_type": "stream",
     "text": [
      "it seems everything is OK with the sink/target shapefile; added to candex object sink_shp_gpd\n",
      "candex will save standard shapefile for candex claculation as:\n",
      "../temporary/ERA5_Merit_NA_1000_sink_shapefile.shp\n",
      "candex detects that the varibales from the netCDF files are identicalin dimensions of the varibales and latitude and longitude\n",
      "candex detects that all the varibales have dimensions of:\n",
      "['time', 'latitude', 'longitude']\n",
      "candex detects that the longitude varibales has dimensions of:\n",
      "['longitude']\n",
      "candex detects that the latitude varibales has dimensions of:\n",
      "['latitude']\n",
      "candex detects case 1 - regular lat/lon\n",
      "[-0.25]\n",
      "(1,)\n",
      "[0.25]\n",
      "(1,)\n",
      "candex is creating the shapefile from the netCDF file and saving it here:\n",
      "../temporary/ERA5_Merit_NA_1000_source_shapefile.shp\n",
      "-170.125 4.875 -49.875 75.125\n",
      "candex decides the netCDF file has longtitude values of -180 to 180; creating the extended\n"
     ]
    },
    {
     "name": "stderr",
     "output_type": "stream",
     "text": [
      "/Users/shg096/opt/anaconda3/lib/python3.8/site-packages/candex/candex.py:731: UserWarning: Geometry is in a geographic CRS. Results from 'area' are likely incorrect. Use 'GeoSeries.to_crs()' to re-project geometries to a projected CRS before this operation.\n",
      "\n",
      "  shp_1['AS1']  = shp_1.area\n",
      "/Users/shg096/opt/anaconda3/lib/python3.8/site-packages/candex/candex.py:743: UserWarning: Geometry is in a geographic CRS. Results from 'area' are likely incorrect. Use 'GeoSeries.to_crs()' to re-project geometries to a projected CRS before this operation.\n",
      "\n",
      "  shp_2['AS2']  = shp_2.area\n",
      "/Users/shg096/opt/anaconda3/lib/python3.8/site-packages/candex/candex.py:831: FutureWarning: Assigning CRS to a GeoDataFrame without a geometry column is now deprecated and will not be supported in the future.\n",
      "  pairs = gpd.GeoDataFrame(nei, columns=['idx1','idx2'], crs=df1.crs)\n",
      "/Users/shg096/opt/anaconda3/lib/python3.8/site-packages/candex/candex.py:835: FutureWarning: Assigning CRS to a GeoDataFrame without a geometry column is now deprecated and will not be supported in the future.\n",
      "  pairs = gpd.GeoDataFrame(pairs, columns=pairs.columns, crs=df1.crs)\n",
      "/Users/shg096/opt/anaconda3/lib/python3.8/site-packages/candex/candex.py:748: UserWarning: Geometry is in a geographic CRS. Results from 'area' are likely incorrect. Use 'GeoSeries.to_crs()' to re-project geometries to a projected CRS before this operation.\n",
      "\n",
      "  result['AINT'] = result['geometry'].area\n"
     ]
    },
    {
     "name": "stdout",
     "output_type": "stream",
     "text": [
      "Remapping ../data/Source_nc_ERA5/ERA5_NA_19790101.nc to ../output/ERA5_Merit_NA_1000_remapped_1979-01-01-00-00-00.nc\n",
      "Started at date and time 2021-03-03 12:49:52.539574\n",
      "Ended   at date and time 2021-03-03 12:49:52.763419\n",
      "Remapping ../data/Source_nc_ERA5/ERA5_NA_19790102.nc to ../output/ERA5_Merit_NA_1000_remapped_1979-01-02-00-00-00.nc\n",
      "Started at date and time 2021-03-03 12:49:52.770218\n",
      "Ended   at date and time 2021-03-03 12:49:53.013365\n",
      "Remapping ../data/Source_nc_ERA5/ERA5_NA_19790103.nc to ../output/ERA5_Merit_NA_1000_remapped_1979-01-03-00-00-00.nc\n",
      "Started at date and time 2021-03-03 12:49:53.019049\n",
      "Ended   at date and time 2021-03-03 12:49:53.232545\n"
     ]
    }
   ],
   "source": [
    "# loading candex\n",
    "from candex.candex import candex\n",
    "\n",
    "# initializing candex object\n",
    "cndx = candex()\n",
    "\n",
    "# specifying candex objects\n",
    "# name of the case; the temporary, remapping and remapped file names include case name\n",
    "cndx.case_name                = 'ERA5_Merit_NA_1000'              \n",
    "# temporary path that the candex generated GIS files and remapped file will be saved\n",
    "cndx.temp_dir                 = '../temporary/'\n",
    "# name of target shapefile that the source netcdf files should be remapped to\n",
    "cndx.sink_shp                 = '/Users/shg096/Desktop/catEndoMERITpfaf_NA_1000.shp'\n",
    "# name of netCDF file(s); multiple files can be specified with *\n",
    "cndx.source_nc                = '../data/Source_nc_ERA5/ERA5_NA_*.nc'\n",
    "# name of variables from source netCDF file(s) to be remapped\n",
    "cndx.var_names                = ['airtemp','pptrate']\n",
    "# name of variable longitude in source netCDF files\n",
    "cndx.var_lon                  = 'longitude'\n",
    "# name of variable latitude in source netCDF files\n",
    "cndx.var_lat                  = 'latitude'\n",
    "# name of variable time in source netCDF file; should be always time\n",
    "cndx.var_time                 = 'time'\n",
    "# location where the remapped netCDF file will be saved\n",
    "cndx.output_dir               = '../output/'\n",
    "# format of the variables to be saved in remapped files,\n",
    "# if one format provided it will be expanded to other variables\n",
    "cndx.format_list              = ['f4']\n",
    "# fill values of the variables to be saved in remapped files,\n",
    "# if one value provided it will be expanded to other variables\n",
    "cndx.fill_value_list          = ['-9999.00']\n",
    "# if uncommented candex will use this and skip GIS tasks\n",
    "# cndx.remap_csv                = '../temporary/ERA5_Medicine_Hat_remapping.csv'\n",
    "\n",
    "# execute candex\n",
    "cndx.run_candex()\n"
   ]
  },
  {
   "cell_type": "code",
   "execution_count": 5,
   "metadata": {},
   "outputs": [
    {
     "name": "stdout",
     "output_type": "stream",
     "text": [
      "no  author name is provide and the author name is changes to (author name)!\n",
      "candex is given multiple varibales to be remapped but only on format and fill valuecandex repeat the format and fill value for all the variables in output files\n",
      "candex detects that target shapefile is in WGS84 (epsg:4326)\n",
      "candex detects that no field for ID is provided in sink/target shapefile\n",
      "arbitarary values of ID are added in the field ID_t\n",
      "candex detects that no field for latitude is provided in sink/target shapefile\n",
      "latitude values are added in the field lat_t\n",
      "candex detects that no field for longitude is provided in sink/target shapefile\n",
      "longitude values are added in the field lon_t\n",
      "it seems everything is OK with the sink/target shapefile; added to candex object sink_shp_gpd\n",
      "candex will save standard shapefile for candex claculation as:\n",
      "../temporary/ERA5_Merit_NA_100_sink_shapefile.shp\n",
      "candex detects that the varibales from the netCDF files are identicalin dimensions of the varibales and latitude and longitude\n",
      "candex detects that all the varibales have dimensions of:\n",
      "['time', 'latitude', 'longitude']\n",
      "candex detects that the longitude varibales has dimensions of:\n",
      "['longitude']\n",
      "candex detects that the latitude varibales has dimensions of:\n",
      "['latitude']\n",
      "candex detects case 1 - regular lat/lon\n"
     ]
    },
    {
     "name": "stderr",
     "output_type": "stream",
     "text": [
      "/Users/shg096/opt/anaconda3/lib/python3.8/site-packages/candex/candex.py:209: UserWarning: Geometry is in a geographic CRS. Results from 'centroid' are likely incorrect. Use 'GeoSeries.to_crs()' to re-project geometries to a projected CRS before this operation.\n",
      "\n",
      "  shp['lat_t']  = shp.centroid.y # centroid lat from target\n",
      "/Users/shg096/opt/anaconda3/lib/python3.8/site-packages/candex/candex.py:216: UserWarning: Geometry is in a geographic CRS. Results from 'centroid' are likely incorrect. Use 'GeoSeries.to_crs()' to re-project geometries to a projected CRS before this operation.\n",
      "\n",
      "  shp['lon_t']  = shp.centroid.x # centroid lon from target\n"
     ]
    },
    {
     "name": "stdout",
     "output_type": "stream",
     "text": [
      "[-0.25]\n",
      "(1,)\n",
      "[0.25]\n",
      "(1,)\n",
      "candex is creating the shapefile from the netCDF file and saving it here:\n",
      "../temporary/ERA5_Merit_NA_100_source_shapefile.shp\n",
      "-170.125 4.875 -49.875 75.125\n",
      "candex decides the netCDF file has longtitude values of -180 to 180; creating the extended\n"
     ]
    },
    {
     "name": "stderr",
     "output_type": "stream",
     "text": [
      "/Users/shg096/opt/anaconda3/lib/python3.8/site-packages/candex/candex.py:731: UserWarning: Geometry is in a geographic CRS. Results from 'area' are likely incorrect. Use 'GeoSeries.to_crs()' to re-project geometries to a projected CRS before this operation.\n",
      "\n",
      "  shp_1['AS1']  = shp_1.area\n",
      "/Users/shg096/opt/anaconda3/lib/python3.8/site-packages/candex/candex.py:743: UserWarning: Geometry is in a geographic CRS. Results from 'area' are likely incorrect. Use 'GeoSeries.to_crs()' to re-project geometries to a projected CRS before this operation.\n",
      "\n",
      "  shp_2['AS2']  = shp_2.area\n",
      "/Users/shg096/opt/anaconda3/lib/python3.8/site-packages/candex/candex.py:831: FutureWarning: Assigning CRS to a GeoDataFrame without a geometry column is now deprecated and will not be supported in the future.\n",
      "  pairs = gpd.GeoDataFrame(nei, columns=['idx1','idx2'], crs=df1.crs)\n",
      "/Users/shg096/opt/anaconda3/lib/python3.8/site-packages/candex/candex.py:835: FutureWarning: Assigning CRS to a GeoDataFrame without a geometry column is now deprecated and will not be supported in the future.\n",
      "  pairs = gpd.GeoDataFrame(pairs, columns=pairs.columns, crs=df1.crs)\n",
      "/Users/shg096/opt/anaconda3/lib/python3.8/site-packages/candex/candex.py:748: UserWarning: Geometry is in a geographic CRS. Results from 'area' are likely incorrect. Use 'GeoSeries.to_crs()' to re-project geometries to a projected CRS before this operation.\n",
      "\n",
      "  result['AINT'] = result['geometry'].area\n"
     ]
    },
    {
     "name": "stdout",
     "output_type": "stream",
     "text": [
      "Remapping ../data/Source_nc_ERA5/ERA5_NA_19790101.nc to ../output/ERA5_Merit_NA_100_remapped_1979-01-01-00-00-00.nc\n",
      "Started at date and time 2021-03-03 12:53:11.636817\n",
      "Ended   at date and time 2021-03-03 12:53:11.856614\n",
      "Remapping ../data/Source_nc_ERA5/ERA5_NA_19790102.nc to ../output/ERA5_Merit_NA_100_remapped_1979-01-02-00-00-00.nc\n",
      "Started at date and time 2021-03-03 12:53:11.863014\n",
      "Ended   at date and time 2021-03-03 12:53:12.113893\n",
      "Remapping ../data/Source_nc_ERA5/ERA5_NA_19790103.nc to ../output/ERA5_Merit_NA_100_remapped_1979-01-03-00-00-00.nc\n",
      "Started at date and time 2021-03-03 12:53:12.121214\n",
      "Ended   at date and time 2021-03-03 12:53:12.369592\n"
     ]
    }
   ],
   "source": [
    "# loading candex\n",
    "from candex.candex import candex\n",
    "\n",
    "# initializing candex object\n",
    "cndx = candex()\n",
    "\n",
    "# specifying candex objects\n",
    "# name of the case; the temporary, remapping and remapped file names include case name\n",
    "cndx.case_name                = 'ERA5_Merit_NA_100'              \n",
    "# temporary path that the candex generated GIS files and remapped file will be saved\n",
    "cndx.temp_dir                 = '../temporary/'\n",
    "# name of target shapefile that the source netcdf files should be remapped to\n",
    "cndx.sink_shp                 = '/Users/shg096/Desktop/catEndoMERITpfaf_NA_100.shp'\n",
    "# name of netCDF file(s); multiple files can be specified with *\n",
    "cndx.source_nc                = '../data/Source_nc_ERA5/ERA5_NA_*.nc'\n",
    "# name of variables from source netCDF file(s) to be remapped\n",
    "cndx.var_names                = ['airtemp','pptrate']\n",
    "# name of variable longitude in source netCDF files\n",
    "cndx.var_lon                  = 'longitude'\n",
    "# name of variable latitude in source netCDF files\n",
    "cndx.var_lat                  = 'latitude'\n",
    "# name of variable time in source netCDF file; should be always time\n",
    "cndx.var_time                 = 'time'\n",
    "# location where the remapped netCDF file will be saved\n",
    "cndx.output_dir               = '../output/'\n",
    "# format of the variables to be saved in remapped files,\n",
    "# if one format provided it will be expanded to other variables\n",
    "cndx.format_list              = ['f4']\n",
    "# fill values of the variables to be saved in remapped files,\n",
    "# if one value provided it will be expanded to other variables\n",
    "cndx.fill_value_list          = ['-9999.00']\n",
    "# if uncommented candex will use this and skip GIS tasks\n",
    "# cndx.remap_csv                = '../temporary/ERA5_Medicine_Hat_remapping.csv'\n",
    "\n",
    "# execute candex\n",
    "cndx.run_candex()\n"
   ]
  },
  {
   "cell_type": "code",
   "execution_count": 6,
   "metadata": {},
   "outputs": [
    {
     "name": "stdout",
     "output_type": "stream",
     "text": [
      "no  author name is provide and the author name is changes to (author name)!\n",
      "candex is given multiple varibales to be remapped but only on format and fill valuecandex repeat the format and fill value for all the variables in output files\n",
      "candex detects that target shapefile is in WGS84 (epsg:4326)\n",
      "candex detects that no field for ID is provided in sink/target shapefile\n",
      "arbitarary values of ID are added in the field ID_t\n",
      "candex detects that no field for latitude is provided in sink/target shapefile\n",
      "latitude values are added in the field lat_t\n",
      "candex detects that no field for longitude is provided in sink/target shapefile\n",
      "longitude values are added in the field lon_t\n",
      "it seems everything is OK with the sink/target shapefile; added to candex object sink_shp_gpd\n",
      "candex will save standard shapefile for candex claculation as:\n",
      "../temporary/ERA5_Merit_NA_10_sink_shapefile.shp\n",
      "candex detects that the varibales from the netCDF files are identicalin dimensions of the varibales and latitude and longitude\n",
      "candex detects that all the varibales have dimensions of:\n",
      "['time', 'latitude', 'longitude']\n",
      "candex detects that the longitude varibales has dimensions of:\n",
      "['longitude']\n",
      "candex detects that the latitude varibales has dimensions of:\n",
      "['latitude']\n",
      "candex detects case 1 - regular lat/lon\n"
     ]
    },
    {
     "name": "stderr",
     "output_type": "stream",
     "text": [
      "/Users/shg096/opt/anaconda3/lib/python3.8/site-packages/candex/candex.py:209: UserWarning: Geometry is in a geographic CRS. Results from 'centroid' are likely incorrect. Use 'GeoSeries.to_crs()' to re-project geometries to a projected CRS before this operation.\n",
      "\n",
      "  shp['lat_t']  = shp.centroid.y # centroid lat from target\n",
      "/Users/shg096/opt/anaconda3/lib/python3.8/site-packages/candex/candex.py:216: UserWarning: Geometry is in a geographic CRS. Results from 'centroid' are likely incorrect. Use 'GeoSeries.to_crs()' to re-project geometries to a projected CRS before this operation.\n",
      "\n",
      "  shp['lon_t']  = shp.centroid.x # centroid lon from target\n"
     ]
    },
    {
     "name": "stdout",
     "output_type": "stream",
     "text": [
      "[-0.25]\n",
      "(1,)\n",
      "[0.25]\n",
      "(1,)\n",
      "candex is creating the shapefile from the netCDF file and saving it here:\n",
      "../temporary/ERA5_Merit_NA_10_source_shapefile.shp\n",
      "-170.125 4.875 -49.875 75.125\n",
      "candex decides the netCDF file has longtitude values of -180 to 180; creating the extended\n"
     ]
    },
    {
     "name": "stderr",
     "output_type": "stream",
     "text": [
      "/Users/shg096/opt/anaconda3/lib/python3.8/site-packages/candex/candex.py:731: UserWarning: Geometry is in a geographic CRS. Results from 'area' are likely incorrect. Use 'GeoSeries.to_crs()' to re-project geometries to a projected CRS before this operation.\n",
      "\n",
      "  shp_1['AS1']  = shp_1.area\n",
      "/Users/shg096/opt/anaconda3/lib/python3.8/site-packages/candex/candex.py:743: UserWarning: Geometry is in a geographic CRS. Results from 'area' are likely incorrect. Use 'GeoSeries.to_crs()' to re-project geometries to a projected CRS before this operation.\n",
      "\n",
      "  shp_2['AS2']  = shp_2.area\n",
      "/Users/shg096/opt/anaconda3/lib/python3.8/site-packages/candex/candex.py:831: FutureWarning: Assigning CRS to a GeoDataFrame without a geometry column is now deprecated and will not be supported in the future.\n",
      "  pairs = gpd.GeoDataFrame(nei, columns=['idx1','idx2'], crs=df1.crs)\n",
      "/Users/shg096/opt/anaconda3/lib/python3.8/site-packages/candex/candex.py:835: FutureWarning: Assigning CRS to a GeoDataFrame without a geometry column is now deprecated and will not be supported in the future.\n",
      "  pairs = gpd.GeoDataFrame(pairs, columns=pairs.columns, crs=df1.crs)\n",
      "/Users/shg096/opt/anaconda3/lib/python3.8/site-packages/candex/candex.py:748: UserWarning: Geometry is in a geographic CRS. Results from 'area' are likely incorrect. Use 'GeoSeries.to_crs()' to re-project geometries to a projected CRS before this operation.\n",
      "\n",
      "  result['AINT'] = result['geometry'].area\n"
     ]
    },
    {
     "name": "stdout",
     "output_type": "stream",
     "text": [
      "Remapping ../data/Source_nc_ERA5/ERA5_NA_19790101.nc to ../output/ERA5_Merit_NA_10_remapped_1979-01-01-00-00-00.nc\n",
      "Started at date and time 2021-03-03 12:56:29.987543\n",
      "Ended   at date and time 2021-03-03 12:56:30.202544\n",
      "Remapping ../data/Source_nc_ERA5/ERA5_NA_19790102.nc to ../output/ERA5_Merit_NA_10_remapped_1979-01-02-00-00-00.nc\n",
      "Started at date and time 2021-03-03 12:56:30.208051\n",
      "Ended   at date and time 2021-03-03 12:56:30.470768\n",
      "Remapping ../data/Source_nc_ERA5/ERA5_NA_19790103.nc to ../output/ERA5_Merit_NA_10_remapped_1979-01-03-00-00-00.nc\n",
      "Started at date and time 2021-03-03 12:56:30.476007\n",
      "Ended   at date and time 2021-03-03 12:56:30.706316\n"
     ]
    }
   ],
   "source": [
    "# loading candex\n",
    "from candex.candex import candex\n",
    "\n",
    "# initializing candex object\n",
    "cndx = candex()\n",
    "\n",
    "# specifying candex objects\n",
    "# name of the case; the temporary, remapping and remapped file names include case name\n",
    "cndx.case_name                = 'ERA5_Merit_NA_10'              \n",
    "# temporary path that the candex generated GIS files and remapped file will be saved\n",
    "cndx.temp_dir                 = '../temporary/'\n",
    "# name of target shapefile that the source netcdf files should be remapped to\n",
    "cndx.sink_shp                 = '/Users/shg096/Desktop/catEndoMERITpfaf_NA_10.shp'\n",
    "# name of netCDF file(s); multiple files can be specified with *\n",
    "cndx.source_nc                = '../data/Source_nc_ERA5/ERA5_NA_*.nc'\n",
    "# name of variables from source netCDF file(s) to be remapped\n",
    "cndx.var_names                = ['airtemp','pptrate']\n",
    "# name of variable longitude in source netCDF files\n",
    "cndx.var_lon                  = 'longitude'\n",
    "# name of variable latitude in source netCDF files\n",
    "cndx.var_lat                  = 'latitude'\n",
    "# name of variable time in source netCDF file; should be always time\n",
    "cndx.var_time                 = 'time'\n",
    "# location where the remapped netCDF file will be saved\n",
    "cndx.output_dir               = '../output/'\n",
    "# format of the variables to be saved in remapped files,\n",
    "# if one format provided it will be expanded to other variables\n",
    "cndx.format_list              = ['f4']\n",
    "# fill values of the variables to be saved in remapped files,\n",
    "# if one value provided it will be expanded to other variables\n",
    "cndx.fill_value_list          = ['-9999.00']\n",
    "# if uncommented candex will use this and skip GIS tasks\n",
    "# cndx.remap_csv                = '../temporary/ERA5_Medicine_Hat_remapping.csv'\n",
    "\n",
    "# execute candex\n",
    "cndx.run_candex()\n"
   ]
  },
  {
   "cell_type": "code",
   "execution_count": 7,
   "metadata": {},
   "outputs": [
    {
     "name": "stdout",
     "output_type": "stream",
     "text": [
      "no  author name is provide and the author name is changes to (author name)!\n",
      "candex is given multiple varibales to be remapped but only on format and fill valuecandex repeat the format and fill value for all the variables in output files\n",
      "candex detects that target shapefile is in WGS84 (epsg:4326)\n",
      "candex detects that no field for ID is provided in sink/target shapefile\n",
      "arbitarary values of ID are added in the field ID_t\n",
      "candex detects that no field for latitude is provided in sink/target shapefile\n",
      "latitude values are added in the field lat_t\n",
      "candex detects that no field for longitude is provided in sink/target shapefile\n",
      "longitude values are added in the field lon_t\n",
      "it seems everything is OK with the sink/target shapefile; added to candex object sink_shp_gpd\n",
      "candex will save standard shapefile for candex claculation as:\n",
      "../temporary/ERA5_Merit_NA_1_sink_shapefile.shp\n",
      "candex detects that the varibales from the netCDF files are identicalin dimensions of the varibales and latitude and longitude\n",
      "candex detects that all the varibales have dimensions of:\n",
      "['time', 'latitude', 'longitude']\n",
      "candex detects that the longitude varibales has dimensions of:\n",
      "['longitude']\n",
      "candex detects that the latitude varibales has dimensions of:\n",
      "['latitude']\n",
      "candex detects case 1 - regular lat/lon\n"
     ]
    },
    {
     "name": "stderr",
     "output_type": "stream",
     "text": [
      "/Users/shg096/opt/anaconda3/lib/python3.8/site-packages/candex/candex.py:209: UserWarning: Geometry is in a geographic CRS. Results from 'centroid' are likely incorrect. Use 'GeoSeries.to_crs()' to re-project geometries to a projected CRS before this operation.\n",
      "\n",
      "  shp['lat_t']  = shp.centroid.y # centroid lat from target\n",
      "/Users/shg096/opt/anaconda3/lib/python3.8/site-packages/candex/candex.py:216: UserWarning: Geometry is in a geographic CRS. Results from 'centroid' are likely incorrect. Use 'GeoSeries.to_crs()' to re-project geometries to a projected CRS before this operation.\n",
      "\n",
      "  shp['lon_t']  = shp.centroid.x # centroid lon from target\n"
     ]
    },
    {
     "name": "stdout",
     "output_type": "stream",
     "text": [
      "[-0.25]\n",
      "(1,)\n",
      "[0.25]\n",
      "(1,)\n",
      "candex is creating the shapefile from the netCDF file and saving it here:\n",
      "../temporary/ERA5_Merit_NA_1_source_shapefile.shp\n",
      "-170.125 4.875 -49.875 75.125\n",
      "candex decides the netCDF file has longtitude values of -180 to 180; creating the extended\n"
     ]
    },
    {
     "name": "stderr",
     "output_type": "stream",
     "text": [
      "/Users/shg096/opt/anaconda3/lib/python3.8/site-packages/candex/candex.py:731: UserWarning: Geometry is in a geographic CRS. Results from 'area' are likely incorrect. Use 'GeoSeries.to_crs()' to re-project geometries to a projected CRS before this operation.\n",
      "\n",
      "  shp_1['AS1']  = shp_1.area\n",
      "/Users/shg096/opt/anaconda3/lib/python3.8/site-packages/candex/candex.py:743: UserWarning: Geometry is in a geographic CRS. Results from 'area' are likely incorrect. Use 'GeoSeries.to_crs()' to re-project geometries to a projected CRS before this operation.\n",
      "\n",
      "  shp_2['AS2']  = shp_2.area\n",
      "/Users/shg096/opt/anaconda3/lib/python3.8/site-packages/candex/candex.py:831: FutureWarning: Assigning CRS to a GeoDataFrame without a geometry column is now deprecated and will not be supported in the future.\n",
      "  pairs = gpd.GeoDataFrame(nei, columns=['idx1','idx2'], crs=df1.crs)\n",
      "/Users/shg096/opt/anaconda3/lib/python3.8/site-packages/candex/candex.py:835: FutureWarning: Assigning CRS to a GeoDataFrame without a geometry column is now deprecated and will not be supported in the future.\n",
      "  pairs = gpd.GeoDataFrame(pairs, columns=pairs.columns, crs=df1.crs)\n",
      "/Users/shg096/opt/anaconda3/lib/python3.8/site-packages/candex/candex.py:748: UserWarning: Geometry is in a geographic CRS. Results from 'area' are likely incorrect. Use 'GeoSeries.to_crs()' to re-project geometries to a projected CRS before this operation.\n",
      "\n",
      "  result['AINT'] = result['geometry'].area\n"
     ]
    },
    {
     "name": "stdout",
     "output_type": "stream",
     "text": [
      "Remapping ../data/Source_nc_ERA5/ERA5_NA_19790101.nc to ../output/ERA5_Merit_NA_1_remapped_1979-01-01-00-00-00.nc\n",
      "Started at date and time 2021-03-03 12:59:46.932064\n",
      "Ended   at date and time 2021-03-03 12:59:47.184573\n",
      "Remapping ../data/Source_nc_ERA5/ERA5_NA_19790102.nc to ../output/ERA5_Merit_NA_1_remapped_1979-01-02-00-00-00.nc\n",
      "Started at date and time 2021-03-03 12:59:47.191582\n",
      "Ended   at date and time 2021-03-03 12:59:47.402587\n",
      "Remapping ../data/Source_nc_ERA5/ERA5_NA_19790103.nc to ../output/ERA5_Merit_NA_1_remapped_1979-01-03-00-00-00.nc\n",
      "Started at date and time 2021-03-03 12:59:47.408495\n",
      "Ended   at date and time 2021-03-03 12:59:47.638101\n"
     ]
    }
   ],
   "source": [
    "# loading candex\n",
    "from candex.candex import candex\n",
    "\n",
    "# initializing candex object\n",
    "cndx = candex()\n",
    "\n",
    "# specifying candex objects\n",
    "# name of the case; the temporary, remapping and remapped file names include case name\n",
    "cndx.case_name                = 'ERA5_Merit_NA_1'              \n",
    "# temporary path that the candex generated GIS files and remapped file will be saved\n",
    "cndx.temp_dir                 = '../temporary/'\n",
    "# name of target shapefile that the source netcdf files should be remapped to\n",
    "cndx.sink_shp                 = '/Users/shg096/Desktop/catEndoMERITpfaf_NA_1.shp'\n",
    "# name of netCDF file(s); multiple files can be specified with *\n",
    "cndx.source_nc                = '../data/Source_nc_ERA5/ERA5_NA_*.nc'\n",
    "# name of variables from source netCDF file(s) to be remapped\n",
    "cndx.var_names                = ['airtemp','pptrate']\n",
    "# name of variable longitude in source netCDF files\n",
    "cndx.var_lon                  = 'longitude'\n",
    "# name of variable latitude in source netCDF files\n",
    "cndx.var_lat                  = 'latitude'\n",
    "# name of variable time in source netCDF file; should be always time\n",
    "cndx.var_time                 = 'time'\n",
    "# location where the remapped netCDF file will be saved\n",
    "cndx.output_dir               = '../output/'\n",
    "# format of the variables to be saved in remapped files,\n",
    "# if one format provided it will be expanded to other variables\n",
    "cndx.format_list              = ['f4']\n",
    "# fill values of the variables to be saved in remapped files,\n",
    "# if one value provided it will be expanded to other variables\n",
    "cndx.fill_value_list          = ['-9999.00']\n",
    "# if uncommented candex will use this and skip GIS tasks\n",
    "# cndx.remap_csv                = '../temporary/ERA5_Medicine_Hat_remapping.csv'\n",
    "\n",
    "# execute candex\n",
    "cndx.run_candex()\n"
   ]
  },
  {
   "cell_type": "code",
   "execution_count": 16,
   "metadata": {},
   "outputs": [],
   "source": [
    "import datetime\n",
    "import numpy as np\n",
    "\n",
    "## 462315\n",
    "diff_462315 = np.zeros([3,])\n",
    "\n",
    "Started = datetime.datetime.strptime('2021-03-03 12:27:52.852567', '%Y-%m-%d %H:%M:%S.%f')\n",
    "Ended   = datetime.datetime.strptime('2021-03-03 12:27:57.103611', '%Y-%m-%d %H:%M:%S.%f')\n",
    "diff    = Ended - Started\n",
    "diff_462315[0] = diff.total_seconds()\n",
    "\n",
    "Started = datetime.datetime.strptime('2021-03-03 12:27:57.125069', '%Y-%m-%d %H:%M:%S.%f')\n",
    "Ended   = datetime.datetime.strptime('2021-03-03 12:28:00.834283', '%Y-%m-%d %H:%M:%S.%f')\n",
    "diff    = Ended - Started\n",
    "diff_462315[1] = diff.total_seconds()\n",
    "\n",
    "Started = datetime.datetime.strptime('2021-03-03 12:28:00.860123', '%Y-%m-%d %H:%M:%S.%f')\n",
    "Ended   = datetime.datetime.strptime('2021-03-03 12:28:04.553557', '%Y-%m-%d %H:%M:%S.%f')\n",
    "diff    = Ended - Started\n",
    "diff_462315[2] = diff.total_seconds()\n",
    "        \n",
    "## 100,000\n",
    "diff_100000 = np.zeros([3,])\n",
    "\n",
    "Started = datetime.datetime.strptime('2021-03-03 12:42:39.309155', '%Y-%m-%d %H:%M:%S.%f')\n",
    "Ended   = datetime.datetime.strptime('2021-03-03 12:42:40.183651', '%Y-%m-%d %H:%M:%S.%f')\n",
    "diff    = Ended - Started\n",
    "diff_100000[0] = diff.total_seconds()\n",
    "\n",
    "Started = datetime.datetime.strptime('2021-03-03 12:42:40.199492', '%Y-%m-%d %H:%M:%S.%f')\n",
    "Ended   = datetime.datetime.strptime('2021-03-03 12:42:41.116093', '%Y-%m-%d %H:%M:%S.%f')\n",
    "diff    = Ended - Started\n",
    "diff_100000[1] = diff.total_seconds()\n",
    "\n",
    "Started = datetime.datetime.strptime('2021-03-03 12:42:41.130033', '%Y-%m-%d %H:%M:%S.%f')\n",
    "Ended   = datetime.datetime.strptime('2021-03-03 12:42:42.027740', '%Y-%m-%d %H:%M:%S.%f')\n",
    "diff    = Ended - Started\n",
    "diff_100000[2] = diff.total_seconds()\n",
    "\n",
    "## 10,000\n",
    "diff_10000 = np.zeros([3,])\n",
    "\n",
    "Started = datetime.datetime.strptime('2021-03-03 12:46:44.351986', '%Y-%m-%d %H:%M:%S.%f')\n",
    "Ended   = datetime.datetime.strptime('2021-03-03 12:46:44.628791', '%Y-%m-%d %H:%M:%S.%f')\n",
    "diff    = Ended - Started\n",
    "diff_10000[0] = diff.total_seconds()\n",
    "\n",
    "Started = datetime.datetime.strptime('2021-03-03 12:46:44.635944', '%Y-%m-%d %H:%M:%S.%f')\n",
    "Ended   = datetime.datetime.strptime('2021-03-03 12:46:44.923614', '%Y-%m-%d %H:%M:%S.%f')\n",
    "diff    = Ended - Started\n",
    "diff_10000[1] = diff.total_seconds()\n",
    "\n",
    "Started = datetime.datetime.strptime('2021-03-03 12:46:44.929651', '%Y-%m-%d %H:%M:%S.%f')\n",
    "Ended   = datetime.datetime.strptime('2021-03-03 12:46:45.205588', '%Y-%m-%d %H:%M:%S.%f')\n",
    "diff    = Ended - Started\n",
    "diff_10000[2] = diff.total_seconds()\n",
    "        \n",
    "## 1,000\n",
    "diff_1000 = np.zeros([3,])\n",
    "\n",
    "Started = datetime.datetime.strptime('2021-03-03 12:49:52.539574', '%Y-%m-%d %H:%M:%S.%f')\n",
    "Ended   = datetime.datetime.strptime('2021-03-03 12:49:52.763419', '%Y-%m-%d %H:%M:%S.%f')\n",
    "diff    = Ended - Started\n",
    "diff_1000[0] = diff.total_seconds()\n",
    "\n",
    "Started = datetime.datetime.strptime('2021-03-03 12:49:52.770218', '%Y-%m-%d %H:%M:%S.%f')\n",
    "Ended   = datetime.datetime.strptime('2021-03-03 12:49:53.013365', '%Y-%m-%d %H:%M:%S.%f')\n",
    "diff    = Ended - Started\n",
    "diff_1000[1] = diff.total_seconds()\n",
    "\n",
    "Started = datetime.datetime.strptime('2021-03-03 12:49:53.019049', '%Y-%m-%d %H:%M:%S.%f')\n",
    "Ended   = datetime.datetime.strptime('2021-03-03 12:49:53.232545', '%Y-%m-%d %H:%M:%S.%f')\n",
    "diff    = Ended - Started\n",
    "diff_1000[2] = diff.total_seconds()\n",
    "\n",
    "        \n",
    "## 100\n",
    "diff_100 = np.zeros([3,])\n",
    "Started = datetime.datetime.strptime('2021-03-03 12:53:11.636817', '%Y-%m-%d %H:%M:%S.%f')\n",
    "Ended   = datetime.datetime.strptime('2021-03-03 12:53:11.856614', '%Y-%m-%d %H:%M:%S.%f')\n",
    "diff    = Ended - Started\n",
    "diff_100[0] = diff.total_seconds()\n",
    "\n",
    "Started = datetime.datetime.strptime('2021-03-03 12:53:11.863014', '%Y-%m-%d %H:%M:%S.%f')\n",
    "Ended   = datetime.datetime.strptime('2021-03-03 12:53:12.113893', '%Y-%m-%d %H:%M:%S.%f')\n",
    "diff    = Ended - Started\n",
    "diff_100[1] = diff.total_seconds()\n",
    "\n",
    "Started = datetime.datetime.strptime('2021-03-03 12:53:12.121214', '%Y-%m-%d %H:%M:%S.%f')\n",
    "Ended   = datetime.datetime.strptime('2021-03-03 12:53:12.369592', '%Y-%m-%d %H:%M:%S.%f')\n",
    "diff    = Ended - Started\n",
    "diff_100[2] = diff.total_seconds()\n",
    "        \n",
    "## 10\n",
    "diff_10 = np.zeros([3,])\n",
    "Started = datetime.datetime.strptime('2021-03-03 12:56:29.987543', '%Y-%m-%d %H:%M:%S.%f')\n",
    "Ended   = datetime.datetime.strptime('2021-03-03 12:56:30.202544', '%Y-%m-%d %H:%M:%S.%f')\n",
    "diff    = Ended - Started\n",
    "diff_10[0] = diff.total_seconds()\n",
    "\n",
    "Started = datetime.datetime.strptime('2021-03-03 12:56:30.208051', '%Y-%m-%d %H:%M:%S.%f')\n",
    "Ended   = datetime.datetime.strptime('2021-03-03 12:56:30.470768', '%Y-%m-%d %H:%M:%S.%f')\n",
    "diff    = Ended - Started\n",
    "diff_10[1] = diff.total_seconds()\n",
    "\n",
    "Started = datetime.datetime.strptime('2021-03-03 12:56:30.476007', '%Y-%m-%d %H:%M:%S.%f')\n",
    "Ended   = datetime.datetime.strptime('2021-03-03 12:56:30.706316', '%Y-%m-%d %H:%M:%S.%f')\n",
    "diff    = Ended - Started\n",
    "diff_10[2] = diff.total_seconds()\n",
    "\n",
    "\n",
    "## 1\n",
    "diff_1 = np.zeros([3,])\n",
    "Started = datetime.datetime.strptime('2021-03-03 12:59:46.932064', '%Y-%m-%d %H:%M:%S.%f')\n",
    "Ended   = datetime.datetime.strptime('2021-03-03 12:59:47.184573', '%Y-%m-%d %H:%M:%S.%f')\n",
    "diff    = Ended - Started\n",
    "diff_1[0] = diff.total_seconds()\n",
    "\n",
    "Started = datetime.datetime.strptime('2021-03-03 12:59:47.191582', '%Y-%m-%d %H:%M:%S.%f')\n",
    "Ended   = datetime.datetime.strptime('2021-03-03 12:59:47.402587', '%Y-%m-%d %H:%M:%S.%f')\n",
    "diff    = Ended - Started\n",
    "diff_1[1] = diff.total_seconds()\n",
    "\n",
    "Started = datetime.datetime.strptime('2021-03-03 12:59:47.408495', '%Y-%m-%d %H:%M:%S.%f')\n",
    "Ended   = datetime.datetime.strptime('2021-03-03 12:59:47.638101', '%Y-%m-%d %H:%M:%S.%f')\n",
    "diff    = Ended - Started\n",
    "diff_1[2] = diff.total_seconds()\n",
    "\n"
   ]
  },
  {
   "cell_type": "code",
   "execution_count": 40,
   "metadata": {},
   "outputs": [
    {
     "name": "stdout",
     "output_type": "stream",
     "text": [
      "         1        10       100      1000     10000    100000    462315\n",
      "0  0.23104  0.236009  0.239685  0.226829  0.280137  0.896268  3.884564\n"
     ]
    }
   ],
   "source": [
    "import pandas as pd\n",
    "\n",
    "# plotting\n",
    "df   = pd.DataFrame()\n",
    "df = df.append({'462315': np.mean(diff_462315), '100000': np.mean(diff_100000),\\\n",
    "                '10000':  np.mean(diff_10000),  '1000': np.mean(diff_1000),\\\n",
    "                '100':    np.mean(diff_100),    '10': np.mean(diff_10),\\\n",
    "                '1':      np.mean(diff_1)}, ignore_index=True)\n",
    "\n",
    "print(df)"
   ]
  },
  {
   "cell_type": "code",
   "execution_count": 71,
   "metadata": {},
   "outputs": [
    {
     "name": "stdout",
     "output_type": "stream",
     "text": [
      "[0.23104    0.236009   0.23968467 0.22682933 0.28013733 0.896268\n",
      " 3.884564  ]\n",
      "[0.23104    0.236009   0.23968467 0.22682933 0.28013733 0.896268\n",
      " 3.884564  ]\n"
     ]
    },
    {
     "data": {
      "image/png": "[encoded data removed]",
      "text/plain": [
       "<Figure size 1080x504 with 1 Axes>"
      ]
     },
     "metadata": {
      "needs_background": "light"
     },
     "output_type": "display_data"
    },
    {
     "data": {
      "image/png": "[encoded data removed]",
      "text/plain": [
       "<Figure size 1080x504 with 1 Axes>"
      ]
     },
     "metadata": {
      "needs_background": "light"
     },
     "output_type": "display_data"
    },
    {
     "data": {
      "image/png": "[encoded data removed]",
      "text/plain": [
       "<Figure size 1080x504 with 1 Axes>"
      ]
     },
     "metadata": {
      "needs_background": "light"
     },
     "output_type": "display_data"
    }
   ],
   "source": [
    "import matplotlib.pyplot as plt\n",
    "import matplotlib\n",
    "font = {'family' : 'Times New Roman',\n",
    "         'weight' : 'bold',\n",
    "         'size'   : 24}\n",
    "matplotlib.rc('font', **font)\n",
    "\n",
    "f, axes = plt.subplots(1,1,figsize=(15,7))\n",
    "dfT = df.T\n",
    "dfT.plot.bar(ax = axes)\n",
    "plt.grid()\n",
    "plt.ylabel('Process time [s]')\n",
    "plt.xlabel('Number of sink shapes [-]')\n",
    "plt.savefig('../fig/Example7_A.png', bbox_inches='tight')\n",
    "\n",
    "\n",
    "f, axes = plt.subplots(1,1,figsize=(15,7))\n",
    "Y = np.array(df)\n",
    "Y = Y.flatten()\n",
    "print(Y)\n",
    "X = np.array([1,10,100,1000,10000,100000,462315])\n",
    "X = X.flatten()\n",
    "plt.plot(X,Y)\n",
    "plt.grid()\n",
    "plt.ylabel('Process time [s]')\n",
    "plt.xlabel('Number of sink shapes [-]')\n",
    "plt.xscale(\"log\")\n",
    "plt.savefig('../fig/Example7_B.png', bbox_inches='tight')\n",
    "\n",
    "f, axes = plt.subplots(1,1,figsize=(15,7))\n",
    "Y = np.array(df)\n",
    "Y = Y.flatten()\n",
    "print(Y)\n",
    "X = np.array([1,10,100,1000,10000,100000,462315])\n",
    "X = X.flatten()\n",
    "plt.plot(X,Y)\n",
    "plt.grid()\n",
    "plt.ylabel('Process time [s]')\n",
    "plt.xlabel('Number of sink shapes [-]')\n",
    "plt.savefig('../fig/Example7_C.png', bbox_inches='tight')\n",
    "\n"
   ]
  },
  {
   "cell_type": "code",
   "execution_count": 7,
   "metadata": {},
   "outputs": [
    {
     "name": "stdout",
     "output_type": "stream",
     "text": [
      "462315\n"
     ]
    }
   ],
   "source": [
    "A = len(shp)\n",
    "print(A)\n",
    "\n",
    "shp_1 = shp.iloc[0:1]\n",
    "shp_1.to_file('/Users/shg096/Desktop/catEndoMERITpfaf_NA_1.shp')\n",
    "\n",
    "shp_1 = shp.iloc[0:10]\n",
    "shp_1.to_file('/Users/shg096/Desktop/catEndoMERITpfaf_NA_10.shp')\n",
    "\n",
    "shp_1 = shp.iloc[0:100]\n",
    "shp_1.to_file('/Users/shg096/Desktop/catEndoMERITpfaf_NA_100.shp')\n",
    "\n",
    "shp_1 = shp.iloc[0:1000]\n",
    "shp_1.to_file('/Users/shg096/Desktop/catEndoMERITpfaf_NA_1000.shp')\n",
    "\n",
    "shp_1 = shp.iloc[0:10000]\n",
    "shp_1.to_file('/Users/shg096/Desktop/catEndoMERITpfaf_NA_10000.shp')\n",
    "\n",
    "shp_1 = shp.iloc[0:100000]\n",
    "shp_1.to_file('/Users/shg096/Desktop/catEndoMERITpfaf_NA_100000.shp')\n"
   ]
  },
  {
   "cell_type": "code",
   "execution_count": 10,
   "metadata": {},
   "outputs": [],
   "source": [
    "import geopandas as gpd\n",
    "\n",
    "shp = gpd.read_file('/Users/shg096/Desktop/catEndoMERITpfaf_NA.shp')\n",
    "\n",
    "shp = shp.to_crs(\"EPSG:4326\")\n",
    "\n",
    "shp.to_file('/Users/shg096/Desktop/catEndoMERITpfaf_NA_WGS84.shp')\n"
   ]
  },
  {
   "cell_type": "code",
   "execution_count": 11,
   "metadata": {},
   "outputs": [
    {
     "name": "stdout",
     "output_type": "stream",
     "text": [
      "462315\n"
     ]
    }
   ],
   "source": [
    "import geopandas as gpd\n",
    "\n",
    "shp = gpd.read_file('/Users/shg096/Desktop/catEndoMERITpfaf_NA.shp')\n",
    "\n",
    "shp = shp.to_crs(\"EPSG:4326\")\n",
    "\n",
    "shp.to_file('/Users/shg096/Desktop/catEndoMERITpfaf_NA_WGS84.shp')\n",
    "\n",
    "shp_1 = shp.iloc[0:1]\n",
    "shp_1.to_file('/Users/shg096/Desktop/catEndoMERITpfaf_NA_1.shp')\n",
    "\n",
    "shp_1 = shp.iloc[0:10]\n",
    "shp_1.to_file('/Users/shg096/Desktop/catEndoMERITpfaf_NA_10.shp')\n",
    "\n",
    "shp_1 = shp.iloc[0:100]\n",
    "shp_1.to_file('/Users/shg096/Desktop/catEndoMERITpfaf_NA_100.shp')\n",
    "\n",
    "shp_1 = shp.iloc[0:1000]\n",
    "shp_1.to_file('/Users/shg096/Desktop/catEndoMERITpfaf_NA_1000.shp')\n",
    "\n",
    "shp_1 = shp.iloc[0:10000]\n",
    "shp_1.to_file('/Users/shg096/Desktop/catEndoMERITpfaf_NA_10000.shp')\n",
    "\n",
    "shp_1 = shp.iloc[0:100000]\n",
    "shp_1.to_file('/Users/shg096/Desktop/catEndoMERITpfaf_NA_100000.shp')\n"
   ]
  },
  {
   "cell_type": "code",
   "execution_count": null,
   "metadata": {},
   "outputs": [],
   "source": []
  }
 ],
 "metadata": {
  "kernelspec": {
   "display_name": "Python 3",
   "language": "python",
   "name": "python3"
  },
  "language_info": {
   "codemirror_mode": {
    "name": "ipython",
    "version": 3
   },
   "file_extension": ".py",
   "mimetype": "text/x-python",
   "name": "python",
   "nbconvert_exporter": "python",
   "pygments_lexer": "ipython3",
   "version": "3.8.5"
  }
 },
 "nbformat": 4,
 "nbformat_minor": 4
}
